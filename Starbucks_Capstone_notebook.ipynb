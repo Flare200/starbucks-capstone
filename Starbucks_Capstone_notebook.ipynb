{
 "cells": [
  {
   "cell_type": "markdown",
   "metadata": {},
   "source": [
    "# Starbucks Capstone Challenge\n",
    "\n",
    "### Introduction\n",
    "\n",
    "This data set contains simulated data that mimics customer behavior on the Starbucks rewards mobile app. Once every few days, Starbucks sends out an offer to users of the mobile app. An offer can be merely an advertisement for a drink or an actual offer such as a discount or BOGO (buy one get one free). Some users might not receive any offer during certain weeks. \n",
    "\n",
    "Not all users receive the same offer, and that is the challenge to solve with this data set.\n",
    "\n",
    "Your task is to combine transaction, demographic and offer data to determine which demographic groups respond best to which offer type. This data set is a simplified version of the real Starbucks app because the underlying simulator only has one product whereas Starbucks actually sells dozens of products.\n",
    "\n",
    "Every offer has a validity period before the offer expires. As an example, a BOGO offer might be valid for only 5 days. You'll see in the data set that informational offers have a validity period even though these ads are merely providing information about a product; for example, if an informational offer has 7 days of validity, you can assume the customer is feeling the influence of the offer for 7 days after receiving the advertisement.\n",
    "\n",
    "You'll be given transactional data showing user purchases made on the app including the timestamp of purchase and the amount of money spent on a purchase. This transactional data also has a record for each offer that a user receives as well as a record for when a user actually views the offer. There are also records for when a user completes an offer. \n",
    "\n",
    "Keep in mind as well that someone using the app might make a purchase through the app without having received an offer or seen an offer.\n",
    "\n",
    "### Example\n",
    "\n",
    "To give an example, a user could receive a discount offer buy 10 dollars get 2 off on Monday. The offer is valid for 10 days from receipt. If the customer accumulates at least 10 dollars in purchases during the validity period, the customer completes the offer.\n",
    "\n",
    "However, there are a few things to watch out for in this data set. Customers do not opt into the offers that they receive; in other words, a user can receive an offer, never actually view the offer, and still complete the offer. For example, a user might receive the \"buy 10 dollars get 2 dollars off offer\", but the user never opens the offer during the 10 day validity period. The customer spends 15 dollars during those ten days. There will be an offer completion record in the data set; however, the customer was not influenced by the offer because the customer never viewed the offer.\n",
    "\n",
    "### Cleaning\n",
    "\n",
    "This makes data cleaning especially important and tricky.\n",
    "\n",
    "You'll also want to take into account that some demographic groups will make purchases even if they don't receive an offer. From a business perspective, if a customer is going to make a 10 dollar purchase without an offer anyway, you wouldn't want to send a buy 10 dollars get 2 dollars off offer. You'll want to try to assess what a certain demographic group will buy when not receiving any offers.\n",
    "\n",
    "### Final Advice\n",
    "\n",
    "Because this is a capstone project, you are free to analyze the data any way you see fit. For example, you could build a machine learning model that predicts how much someone will spend based on demographics and offer type. Or you could build a model that predicts whether or not someone will respond to an offer. Or, you don't need to build a machine learning model at all. You could develop a set of heuristics that determine what offer you should send to each customer (i.e., 75 percent of women customers who were 35 years old responded to offer A vs 40 percent from the same demographic to offer B, so send offer A)."
   ]
  },
  {
   "cell_type": "markdown",
   "metadata": {},
   "source": [
    "# Data Sets\n",
    "\n",
    "The data is contained in three files:\n",
    "\n",
    "* portfolio.json - containing offer ids and meta data about each offer (duration, type, etc.)\n",
    "* profile.json - demographic data for each customer\n",
    "* transcript.json - records for transactions, offers received, offers viewed, and offers completed\n",
    "\n",
    "Here is the schema and explanation of each variable in the files:\n",
    "\n",
    "**portfolio.json**\n",
    "* id (string) - offer id\n",
    "* offer_type (string) - type of offer ie BOGO, discount, informational\n",
    "* difficulty (int) - minimum required spend to complete an offer\n",
    "* reward (int) - reward given for completing an offer\n",
    "* duration (int) - time for offer to be open, in days\n",
    "* channels (list of strings)\n",
    "\n",
    "**profile.json**\n",
    "* age (int) - age of the customer \n",
    "* became_member_on (int) - date when customer created an app account\n",
    "* gender (str) - gender of the customer (note some entries contain 'O' for other rather than M or F)\n",
    "* id (str) - customer id\n",
    "* income (float) - customer's income\n",
    "\n",
    "**transcript.json**\n",
    "* event (str) - record description (ie transaction, offer received, offer viewed, etc.)\n",
    "* person (str) - customer id\n",
    "* time (int) - time in hours since start of test. The data begins at time t=0\n",
    "* value - (dict of strings) - either an offer id or transaction amount depending on the record"
   ]
  },
  {
   "cell_type": "code",
   "execution_count": 1,
   "metadata": {},
   "outputs": [],
   "source": [
    "import pandas as pd\n",
    "import numpy as np\n",
    "import matplotlib.pyplot as plt\n",
    "import seaborn as sns\n",
    "import pickle\n",
    "import math\n",
    "import json\n",
    "%matplotlib inline\n",
    "\n",
    "# Used to ignore some warnings for sns\n",
    "import warnings \n",
    "warnings.filterwarnings('ignore')\n",
    "\n",
    "# read in the json files\n",
    "portfolio = pd.read_json('data/portfolio.json', orient='records', lines=True)\n",
    "profile = pd.read_json('data/profile.json', orient='records', lines=True)\n",
    "transcript = pd.read_json('data/transcript.json', orient='records', lines=True)"
   ]
  },
  {
   "cell_type": "markdown",
   "metadata": {},
   "source": [
    "## 1. Inspect the Data"
   ]
  },
  {
   "cell_type": "markdown",
   "metadata": {},
   "source": [
    "### Inspect portfolio data"
   ]
  },
  {
   "cell_type": "code",
   "execution_count": 2,
   "metadata": {
    "scrolled": true
   },
   "outputs": [
    {
     "data": {
      "text/html": [
       "<div>\n",
       "<style scoped>\n",
       "    .dataframe tbody tr th:only-of-type {\n",
       "        vertical-align: middle;\n",
       "    }\n",
       "\n",
       "    .dataframe tbody tr th {\n",
       "        vertical-align: top;\n",
       "    }\n",
       "\n",
       "    .dataframe thead th {\n",
       "        text-align: right;\n",
       "    }\n",
       "</style>\n",
       "<table border=\"1\" class=\"dataframe\">\n",
       "  <thead>\n",
       "    <tr style=\"text-align: right;\">\n",
       "      <th></th>\n",
       "      <th>reward</th>\n",
       "      <th>channels</th>\n",
       "      <th>difficulty</th>\n",
       "      <th>duration</th>\n",
       "      <th>offer_type</th>\n",
       "      <th>id</th>\n",
       "    </tr>\n",
       "  </thead>\n",
       "  <tbody>\n",
       "    <tr>\n",
       "      <th>0</th>\n",
       "      <td>10</td>\n",
       "      <td>[email, mobile, social]</td>\n",
       "      <td>10</td>\n",
       "      <td>7</td>\n",
       "      <td>bogo</td>\n",
       "      <td>ae264e3637204a6fb9bb56bc8210ddfd</td>\n",
       "    </tr>\n",
       "    <tr>\n",
       "      <th>1</th>\n",
       "      <td>10</td>\n",
       "      <td>[web, email, mobile, social]</td>\n",
       "      <td>10</td>\n",
       "      <td>5</td>\n",
       "      <td>bogo</td>\n",
       "      <td>4d5c57ea9a6940dd891ad53e9dbe8da0</td>\n",
       "    </tr>\n",
       "    <tr>\n",
       "      <th>2</th>\n",
       "      <td>0</td>\n",
       "      <td>[web, email, mobile]</td>\n",
       "      <td>0</td>\n",
       "      <td>4</td>\n",
       "      <td>informational</td>\n",
       "      <td>3f207df678b143eea3cee63160fa8bed</td>\n",
       "    </tr>\n",
       "    <tr>\n",
       "      <th>3</th>\n",
       "      <td>5</td>\n",
       "      <td>[web, email, mobile]</td>\n",
       "      <td>5</td>\n",
       "      <td>7</td>\n",
       "      <td>bogo</td>\n",
       "      <td>9b98b8c7a33c4b65b9aebfe6a799e6d9</td>\n",
       "    </tr>\n",
       "    <tr>\n",
       "      <th>4</th>\n",
       "      <td>5</td>\n",
       "      <td>[web, email]</td>\n",
       "      <td>20</td>\n",
       "      <td>10</td>\n",
       "      <td>discount</td>\n",
       "      <td>0b1e1539f2cc45b7b9fa7c272da2e1d7</td>\n",
       "    </tr>\n",
       "    <tr>\n",
       "      <th>5</th>\n",
       "      <td>3</td>\n",
       "      <td>[web, email, mobile, social]</td>\n",
       "      <td>7</td>\n",
       "      <td>7</td>\n",
       "      <td>discount</td>\n",
       "      <td>2298d6c36e964ae4a3e7e9706d1fb8c2</td>\n",
       "    </tr>\n",
       "    <tr>\n",
       "      <th>6</th>\n",
       "      <td>2</td>\n",
       "      <td>[web, email, mobile, social]</td>\n",
       "      <td>10</td>\n",
       "      <td>10</td>\n",
       "      <td>discount</td>\n",
       "      <td>fafdcd668e3743c1bb461111dcafc2a4</td>\n",
       "    </tr>\n",
       "    <tr>\n",
       "      <th>7</th>\n",
       "      <td>0</td>\n",
       "      <td>[email, mobile, social]</td>\n",
       "      <td>0</td>\n",
       "      <td>3</td>\n",
       "      <td>informational</td>\n",
       "      <td>5a8bc65990b245e5a138643cd4eb9837</td>\n",
       "    </tr>\n",
       "    <tr>\n",
       "      <th>8</th>\n",
       "      <td>5</td>\n",
       "      <td>[web, email, mobile, social]</td>\n",
       "      <td>5</td>\n",
       "      <td>5</td>\n",
       "      <td>bogo</td>\n",
       "      <td>f19421c1d4aa40978ebb69ca19b0e20d</td>\n",
       "    </tr>\n",
       "    <tr>\n",
       "      <th>9</th>\n",
       "      <td>2</td>\n",
       "      <td>[web, email, mobile]</td>\n",
       "      <td>10</td>\n",
       "      <td>7</td>\n",
       "      <td>discount</td>\n",
       "      <td>2906b810c7d4411798c6938adc9daaa5</td>\n",
       "    </tr>\n",
       "  </tbody>\n",
       "</table>\n",
       "</div>"
      ],
      "text/plain": [
       "   reward                      channels  difficulty  duration     offer_type  \\\n",
       "0      10       [email, mobile, social]          10         7           bogo   \n",
       "1      10  [web, email, mobile, social]          10         5           bogo   \n",
       "2       0          [web, email, mobile]           0         4  informational   \n",
       "3       5          [web, email, mobile]           5         7           bogo   \n",
       "4       5                  [web, email]          20        10       discount   \n",
       "5       3  [web, email, mobile, social]           7         7       discount   \n",
       "6       2  [web, email, mobile, social]          10        10       discount   \n",
       "7       0       [email, mobile, social]           0         3  informational   \n",
       "8       5  [web, email, mobile, social]           5         5           bogo   \n",
       "9       2          [web, email, mobile]          10         7       discount   \n",
       "\n",
       "                                 id  \n",
       "0  ae264e3637204a6fb9bb56bc8210ddfd  \n",
       "1  4d5c57ea9a6940dd891ad53e9dbe8da0  \n",
       "2  3f207df678b143eea3cee63160fa8bed  \n",
       "3  9b98b8c7a33c4b65b9aebfe6a799e6d9  \n",
       "4  0b1e1539f2cc45b7b9fa7c272da2e1d7  \n",
       "5  2298d6c36e964ae4a3e7e9706d1fb8c2  \n",
       "6  fafdcd668e3743c1bb461111dcafc2a4  \n",
       "7  5a8bc65990b245e5a138643cd4eb9837  \n",
       "8  f19421c1d4aa40978ebb69ca19b0e20d  \n",
       "9  2906b810c7d4411798c6938adc9daaa5  "
      ]
     },
     "execution_count": 2,
     "metadata": {},
     "output_type": "execute_result"
    }
   ],
   "source": [
    "portfolio"
   ]
  },
  {
   "cell_type": "code",
   "execution_count": 3,
   "metadata": {},
   "outputs": [
    {
     "data": {
      "text/plain": [
       "(10, 6)"
      ]
     },
     "execution_count": 3,
     "metadata": {},
     "output_type": "execute_result"
    }
   ],
   "source": [
    "portfolio.shape"
   ]
  },
  {
   "cell_type": "code",
   "execution_count": 4,
   "metadata": {},
   "outputs": [
    {
     "data": {
      "text/html": [
       "<div>\n",
       "<style scoped>\n",
       "    .dataframe tbody tr th:only-of-type {\n",
       "        vertical-align: middle;\n",
       "    }\n",
       "\n",
       "    .dataframe tbody tr th {\n",
       "        vertical-align: top;\n",
       "    }\n",
       "\n",
       "    .dataframe thead th {\n",
       "        text-align: right;\n",
       "    }\n",
       "</style>\n",
       "<table border=\"1\" class=\"dataframe\">\n",
       "  <thead>\n",
       "    <tr style=\"text-align: right;\">\n",
       "      <th></th>\n",
       "      <th>reward</th>\n",
       "      <th>difficulty</th>\n",
       "      <th>duration</th>\n",
       "    </tr>\n",
       "  </thead>\n",
       "  <tbody>\n",
       "    <tr>\n",
       "      <th>count</th>\n",
       "      <td>10.000000</td>\n",
       "      <td>10.000000</td>\n",
       "      <td>10.000000</td>\n",
       "    </tr>\n",
       "    <tr>\n",
       "      <th>mean</th>\n",
       "      <td>4.200000</td>\n",
       "      <td>7.700000</td>\n",
       "      <td>6.500000</td>\n",
       "    </tr>\n",
       "    <tr>\n",
       "      <th>std</th>\n",
       "      <td>3.583915</td>\n",
       "      <td>5.831905</td>\n",
       "      <td>2.321398</td>\n",
       "    </tr>\n",
       "    <tr>\n",
       "      <th>min</th>\n",
       "      <td>0.000000</td>\n",
       "      <td>0.000000</td>\n",
       "      <td>3.000000</td>\n",
       "    </tr>\n",
       "    <tr>\n",
       "      <th>25%</th>\n",
       "      <td>2.000000</td>\n",
       "      <td>5.000000</td>\n",
       "      <td>5.000000</td>\n",
       "    </tr>\n",
       "    <tr>\n",
       "      <th>50%</th>\n",
       "      <td>4.000000</td>\n",
       "      <td>8.500000</td>\n",
       "      <td>7.000000</td>\n",
       "    </tr>\n",
       "    <tr>\n",
       "      <th>75%</th>\n",
       "      <td>5.000000</td>\n",
       "      <td>10.000000</td>\n",
       "      <td>7.000000</td>\n",
       "    </tr>\n",
       "    <tr>\n",
       "      <th>max</th>\n",
       "      <td>10.000000</td>\n",
       "      <td>20.000000</td>\n",
       "      <td>10.000000</td>\n",
       "    </tr>\n",
       "  </tbody>\n",
       "</table>\n",
       "</div>"
      ],
      "text/plain": [
       "          reward  difficulty   duration\n",
       "count  10.000000   10.000000  10.000000\n",
       "mean    4.200000    7.700000   6.500000\n",
       "std     3.583915    5.831905   2.321398\n",
       "min     0.000000    0.000000   3.000000\n",
       "25%     2.000000    5.000000   5.000000\n",
       "50%     4.000000    8.500000   7.000000\n",
       "75%     5.000000   10.000000   7.000000\n",
       "max    10.000000   20.000000  10.000000"
      ]
     },
     "execution_count": 4,
     "metadata": {},
     "output_type": "execute_result"
    }
   ],
   "source": [
    "portfolio.describe()"
   ]
  },
  {
   "cell_type": "code",
   "execution_count": 5,
   "metadata": {},
   "outputs": [
    {
     "name": "stdout",
     "output_type": "stream",
     "text": [
      "<class 'pandas.core.frame.DataFrame'>\n",
      "RangeIndex: 10 entries, 0 to 9\n",
      "Data columns (total 6 columns):\n",
      " #   Column      Non-Null Count  Dtype \n",
      "---  ------      --------------  ----- \n",
      " 0   reward      10 non-null     int64 \n",
      " 1   channels    10 non-null     object\n",
      " 2   difficulty  10 non-null     int64 \n",
      " 3   duration    10 non-null     int64 \n",
      " 4   offer_type  10 non-null     object\n",
      " 5   id          10 non-null     object\n",
      "dtypes: int64(3), object(3)\n",
      "memory usage: 612.0+ bytes\n"
     ]
    }
   ],
   "source": [
    "portfolio.info()"
   ]
  },
  {
   "cell_type": "code",
   "execution_count": 6,
   "metadata": {},
   "outputs": [
    {
     "data": {
      "text/plain": [
       "(channels\n",
       " [web, email, mobile, social]    4\n",
       " [web, email, mobile]            3\n",
       " [email, mobile, social]         2\n",
       " [web, email]                    1\n",
       " Name: count, dtype: int64,\n",
       " offer_type\n",
       " bogo             4\n",
       " discount         4\n",
       " informational    2\n",
       " Name: count, dtype: int64,\n",
       " reward\n",
       " 5     3\n",
       " 10    2\n",
       " 0     2\n",
       " 2     2\n",
       " 3     1\n",
       " Name: count, dtype: int64)"
      ]
     },
     "execution_count": 6,
     "metadata": {},
     "output_type": "execute_result"
    }
   ],
   "source": [
    "portfolio['channels'].value_counts(), portfolio['offer_type'].value_counts(), portfolio['reward'].value_counts()"
   ]
  },
  {
   "cell_type": "markdown",
   "metadata": {},
   "source": [
    "### Inspect profile data"
   ]
  },
  {
   "cell_type": "code",
   "execution_count": 7,
   "metadata": {
    "scrolled": true
   },
   "outputs": [
    {
     "data": {
      "text/html": [
       "<div>\n",
       "<style scoped>\n",
       "    .dataframe tbody tr th:only-of-type {\n",
       "        vertical-align: middle;\n",
       "    }\n",
       "\n",
       "    .dataframe tbody tr th {\n",
       "        vertical-align: top;\n",
       "    }\n",
       "\n",
       "    .dataframe thead th {\n",
       "        text-align: right;\n",
       "    }\n",
       "</style>\n",
       "<table border=\"1\" class=\"dataframe\">\n",
       "  <thead>\n",
       "    <tr style=\"text-align: right;\">\n",
       "      <th></th>\n",
       "      <th>gender</th>\n",
       "      <th>age</th>\n",
       "      <th>id</th>\n",
       "      <th>became_member_on</th>\n",
       "      <th>income</th>\n",
       "    </tr>\n",
       "  </thead>\n",
       "  <tbody>\n",
       "    <tr>\n",
       "      <th>0</th>\n",
       "      <td>None</td>\n",
       "      <td>118</td>\n",
       "      <td>68be06ca386d4c31939f3a4f0e3dd783</td>\n",
       "      <td>20170212</td>\n",
       "      <td>NaN</td>\n",
       "    </tr>\n",
       "    <tr>\n",
       "      <th>1</th>\n",
       "      <td>F</td>\n",
       "      <td>55</td>\n",
       "      <td>0610b486422d4921ae7d2bf64640c50b</td>\n",
       "      <td>20170715</td>\n",
       "      <td>112000.0</td>\n",
       "    </tr>\n",
       "    <tr>\n",
       "      <th>2</th>\n",
       "      <td>None</td>\n",
       "      <td>118</td>\n",
       "      <td>38fe809add3b4fcf9315a9694bb96ff5</td>\n",
       "      <td>20180712</td>\n",
       "      <td>NaN</td>\n",
       "    </tr>\n",
       "    <tr>\n",
       "      <th>3</th>\n",
       "      <td>F</td>\n",
       "      <td>75</td>\n",
       "      <td>78afa995795e4d85b5d9ceeca43f5fef</td>\n",
       "      <td>20170509</td>\n",
       "      <td>100000.0</td>\n",
       "    </tr>\n",
       "    <tr>\n",
       "      <th>4</th>\n",
       "      <td>None</td>\n",
       "      <td>118</td>\n",
       "      <td>a03223e636434f42ac4c3df47e8bac43</td>\n",
       "      <td>20170804</td>\n",
       "      <td>NaN</td>\n",
       "    </tr>\n",
       "  </tbody>\n",
       "</table>\n",
       "</div>"
      ],
      "text/plain": [
       "  gender  age                                id  became_member_on    income\n",
       "0   None  118  68be06ca386d4c31939f3a4f0e3dd783          20170212       NaN\n",
       "1      F   55  0610b486422d4921ae7d2bf64640c50b          20170715  112000.0\n",
       "2   None  118  38fe809add3b4fcf9315a9694bb96ff5          20180712       NaN\n",
       "3      F   75  78afa995795e4d85b5d9ceeca43f5fef          20170509  100000.0\n",
       "4   None  118  a03223e636434f42ac4c3df47e8bac43          20170804       NaN"
      ]
     },
     "execution_count": 7,
     "metadata": {},
     "output_type": "execute_result"
    }
   ],
   "source": [
    "profile.head()"
   ]
  },
  {
   "cell_type": "code",
   "execution_count": 8,
   "metadata": {},
   "outputs": [
    {
     "data": {
      "text/plain": [
       "(17000, 5)"
      ]
     },
     "execution_count": 8,
     "metadata": {},
     "output_type": "execute_result"
    }
   ],
   "source": [
    "profile.shape"
   ]
  },
  {
   "cell_type": "code",
   "execution_count": 9,
   "metadata": {},
   "outputs": [
    {
     "data": {
      "text/html": [
       "<div>\n",
       "<style scoped>\n",
       "    .dataframe tbody tr th:only-of-type {\n",
       "        vertical-align: middle;\n",
       "    }\n",
       "\n",
       "    .dataframe tbody tr th {\n",
       "        vertical-align: top;\n",
       "    }\n",
       "\n",
       "    .dataframe thead th {\n",
       "        text-align: right;\n",
       "    }\n",
       "</style>\n",
       "<table border=\"1\" class=\"dataframe\">\n",
       "  <thead>\n",
       "    <tr style=\"text-align: right;\">\n",
       "      <th></th>\n",
       "      <th>age</th>\n",
       "      <th>became_member_on</th>\n",
       "      <th>income</th>\n",
       "    </tr>\n",
       "  </thead>\n",
       "  <tbody>\n",
       "    <tr>\n",
       "      <th>count</th>\n",
       "      <td>17000.000000</td>\n",
       "      <td>1.700000e+04</td>\n",
       "      <td>14825.000000</td>\n",
       "    </tr>\n",
       "    <tr>\n",
       "      <th>mean</th>\n",
       "      <td>62.531412</td>\n",
       "      <td>2.016703e+07</td>\n",
       "      <td>65404.991568</td>\n",
       "    </tr>\n",
       "    <tr>\n",
       "      <th>std</th>\n",
       "      <td>26.738580</td>\n",
       "      <td>1.167750e+04</td>\n",
       "      <td>21598.299410</td>\n",
       "    </tr>\n",
       "    <tr>\n",
       "      <th>min</th>\n",
       "      <td>18.000000</td>\n",
       "      <td>2.013073e+07</td>\n",
       "      <td>30000.000000</td>\n",
       "    </tr>\n",
       "    <tr>\n",
       "      <th>25%</th>\n",
       "      <td>45.000000</td>\n",
       "      <td>2.016053e+07</td>\n",
       "      <td>49000.000000</td>\n",
       "    </tr>\n",
       "    <tr>\n",
       "      <th>50%</th>\n",
       "      <td>58.000000</td>\n",
       "      <td>2.017080e+07</td>\n",
       "      <td>64000.000000</td>\n",
       "    </tr>\n",
       "    <tr>\n",
       "      <th>75%</th>\n",
       "      <td>73.000000</td>\n",
       "      <td>2.017123e+07</td>\n",
       "      <td>80000.000000</td>\n",
       "    </tr>\n",
       "    <tr>\n",
       "      <th>max</th>\n",
       "      <td>118.000000</td>\n",
       "      <td>2.018073e+07</td>\n",
       "      <td>120000.000000</td>\n",
       "    </tr>\n",
       "  </tbody>\n",
       "</table>\n",
       "</div>"
      ],
      "text/plain": [
       "                age  became_member_on         income\n",
       "count  17000.000000      1.700000e+04   14825.000000\n",
       "mean      62.531412      2.016703e+07   65404.991568\n",
       "std       26.738580      1.167750e+04   21598.299410\n",
       "min       18.000000      2.013073e+07   30000.000000\n",
       "25%       45.000000      2.016053e+07   49000.000000\n",
       "50%       58.000000      2.017080e+07   64000.000000\n",
       "75%       73.000000      2.017123e+07   80000.000000\n",
       "max      118.000000      2.018073e+07  120000.000000"
      ]
     },
     "execution_count": 9,
     "metadata": {},
     "output_type": "execute_result"
    }
   ],
   "source": [
    "profile.describe()"
   ]
  },
  {
   "cell_type": "code",
   "execution_count": 10,
   "metadata": {},
   "outputs": [
    {
     "name": "stdout",
     "output_type": "stream",
     "text": [
      "<class 'pandas.core.frame.DataFrame'>\n",
      "RangeIndex: 17000 entries, 0 to 16999\n",
      "Data columns (total 5 columns):\n",
      " #   Column            Non-Null Count  Dtype  \n",
      "---  ------            --------------  -----  \n",
      " 0   gender            14825 non-null  object \n",
      " 1   age               17000 non-null  int64  \n",
      " 2   id                17000 non-null  object \n",
      " 3   became_member_on  17000 non-null  int64  \n",
      " 4   income            14825 non-null  float64\n",
      "dtypes: float64(1), int64(2), object(2)\n",
      "memory usage: 664.2+ KB\n"
     ]
    }
   ],
   "source": [
    "profile.info()"
   ]
  },
  {
   "cell_type": "code",
   "execution_count": 11,
   "metadata": {},
   "outputs": [
    {
     "data": {
      "text/plain": [
       "gender              2175\n",
       "age                    0\n",
       "id                     0\n",
       "became_member_on       0\n",
       "income              2175\n",
       "dtype: int64"
      ]
     },
     "execution_count": 11,
     "metadata": {},
     "output_type": "execute_result"
    }
   ],
   "source": [
    "# Count null values\n",
    "profile.isnull().sum()"
   ]
  },
  {
   "cell_type": "markdown",
   "metadata": {},
   "source": [
    "Gender and income are missing for some customers. We will drop these customers from our analysis in the next section."
   ]
  },
  {
   "cell_type": "code",
   "execution_count": 12,
   "metadata": {},
   "outputs": [
    {
     "data": {
      "text/plain": [
       "(17000, 5)"
      ]
     },
     "execution_count": 12,
     "metadata": {},
     "output_type": "execute_result"
    }
   ],
   "source": [
    "profile.shape"
   ]
  },
  {
   "cell_type": "code",
   "execution_count": 13,
   "metadata": {},
   "outputs": [
    {
     "data": {
      "text/html": [
       "<div>\n",
       "<style scoped>\n",
       "    .dataframe tbody tr th:only-of-type {\n",
       "        vertical-align: middle;\n",
       "    }\n",
       "\n",
       "    .dataframe tbody tr th {\n",
       "        vertical-align: top;\n",
       "    }\n",
       "\n",
       "    .dataframe thead th {\n",
       "        text-align: right;\n",
       "    }\n",
       "</style>\n",
       "<table border=\"1\" class=\"dataframe\">\n",
       "  <thead>\n",
       "    <tr style=\"text-align: right;\">\n",
       "      <th></th>\n",
       "      <th>age</th>\n",
       "      <th>became_member_on</th>\n",
       "      <th>income</th>\n",
       "    </tr>\n",
       "  </thead>\n",
       "  <tbody>\n",
       "    <tr>\n",
       "      <th>count</th>\n",
       "      <td>17000.000000</td>\n",
       "      <td>1.700000e+04</td>\n",
       "      <td>14825.000000</td>\n",
       "    </tr>\n",
       "    <tr>\n",
       "      <th>mean</th>\n",
       "      <td>62.531412</td>\n",
       "      <td>2.016703e+07</td>\n",
       "      <td>65404.991568</td>\n",
       "    </tr>\n",
       "    <tr>\n",
       "      <th>std</th>\n",
       "      <td>26.738580</td>\n",
       "      <td>1.167750e+04</td>\n",
       "      <td>21598.299410</td>\n",
       "    </tr>\n",
       "    <tr>\n",
       "      <th>min</th>\n",
       "      <td>18.000000</td>\n",
       "      <td>2.013073e+07</td>\n",
       "      <td>30000.000000</td>\n",
       "    </tr>\n",
       "    <tr>\n",
       "      <th>25%</th>\n",
       "      <td>45.000000</td>\n",
       "      <td>2.016053e+07</td>\n",
       "      <td>49000.000000</td>\n",
       "    </tr>\n",
       "    <tr>\n",
       "      <th>50%</th>\n",
       "      <td>58.000000</td>\n",
       "      <td>2.017080e+07</td>\n",
       "      <td>64000.000000</td>\n",
       "    </tr>\n",
       "    <tr>\n",
       "      <th>75%</th>\n",
       "      <td>73.000000</td>\n",
       "      <td>2.017123e+07</td>\n",
       "      <td>80000.000000</td>\n",
       "    </tr>\n",
       "    <tr>\n",
       "      <th>max</th>\n",
       "      <td>118.000000</td>\n",
       "      <td>2.018073e+07</td>\n",
       "      <td>120000.000000</td>\n",
       "    </tr>\n",
       "  </tbody>\n",
       "</table>\n",
       "</div>"
      ],
      "text/plain": [
       "                age  became_member_on         income\n",
       "count  17000.000000      1.700000e+04   14825.000000\n",
       "mean      62.531412      2.016703e+07   65404.991568\n",
       "std       26.738580      1.167750e+04   21598.299410\n",
       "min       18.000000      2.013073e+07   30000.000000\n",
       "25%       45.000000      2.016053e+07   49000.000000\n",
       "50%       58.000000      2.017080e+07   64000.000000\n",
       "75%       73.000000      2.017123e+07   80000.000000\n",
       "max      118.000000      2.018073e+07  120000.000000"
      ]
     },
     "execution_count": 13,
     "metadata": {},
     "output_type": "execute_result"
    }
   ],
   "source": [
    "profile.describe()"
   ]
  },
  {
   "cell_type": "markdown",
   "metadata": {},
   "source": [
    "### Inspect transcript data"
   ]
  },
  {
   "cell_type": "code",
   "execution_count": 14,
   "metadata": {},
   "outputs": [
    {
     "data": {
      "text/html": [
       "<div>\n",
       "<style scoped>\n",
       "    .dataframe tbody tr th:only-of-type {\n",
       "        vertical-align: middle;\n",
       "    }\n",
       "\n",
       "    .dataframe tbody tr th {\n",
       "        vertical-align: top;\n",
       "    }\n",
       "\n",
       "    .dataframe thead th {\n",
       "        text-align: right;\n",
       "    }\n",
       "</style>\n",
       "<table border=\"1\" class=\"dataframe\">\n",
       "  <thead>\n",
       "    <tr style=\"text-align: right;\">\n",
       "      <th></th>\n",
       "      <th>person</th>\n",
       "      <th>event</th>\n",
       "      <th>value</th>\n",
       "      <th>time</th>\n",
       "    </tr>\n",
       "  </thead>\n",
       "  <tbody>\n",
       "    <tr>\n",
       "      <th>0</th>\n",
       "      <td>78afa995795e4d85b5d9ceeca43f5fef</td>\n",
       "      <td>offer received</td>\n",
       "      <td>{'offer id': '9b98b8c7a33c4b65b9aebfe6a799e6d9'}</td>\n",
       "      <td>0</td>\n",
       "    </tr>\n",
       "    <tr>\n",
       "      <th>1</th>\n",
       "      <td>a03223e636434f42ac4c3df47e8bac43</td>\n",
       "      <td>offer received</td>\n",
       "      <td>{'offer id': '0b1e1539f2cc45b7b9fa7c272da2e1d7'}</td>\n",
       "      <td>0</td>\n",
       "    </tr>\n",
       "    <tr>\n",
       "      <th>2</th>\n",
       "      <td>e2127556f4f64592b11af22de27a7932</td>\n",
       "      <td>offer received</td>\n",
       "      <td>{'offer id': '2906b810c7d4411798c6938adc9daaa5'}</td>\n",
       "      <td>0</td>\n",
       "    </tr>\n",
       "    <tr>\n",
       "      <th>3</th>\n",
       "      <td>8ec6ce2a7e7949b1bf142def7d0e0586</td>\n",
       "      <td>offer received</td>\n",
       "      <td>{'offer id': 'fafdcd668e3743c1bb461111dcafc2a4'}</td>\n",
       "      <td>0</td>\n",
       "    </tr>\n",
       "    <tr>\n",
       "      <th>4</th>\n",
       "      <td>68617ca6246f4fbc85e91a2a49552598</td>\n",
       "      <td>offer received</td>\n",
       "      <td>{'offer id': '4d5c57ea9a6940dd891ad53e9dbe8da0'}</td>\n",
       "      <td>0</td>\n",
       "    </tr>\n",
       "  </tbody>\n",
       "</table>\n",
       "</div>"
      ],
      "text/plain": [
       "                             person           event  \\\n",
       "0  78afa995795e4d85b5d9ceeca43f5fef  offer received   \n",
       "1  a03223e636434f42ac4c3df47e8bac43  offer received   \n",
       "2  e2127556f4f64592b11af22de27a7932  offer received   \n",
       "3  8ec6ce2a7e7949b1bf142def7d0e0586  offer received   \n",
       "4  68617ca6246f4fbc85e91a2a49552598  offer received   \n",
       "\n",
       "                                              value  time  \n",
       "0  {'offer id': '9b98b8c7a33c4b65b9aebfe6a799e6d9'}     0  \n",
       "1  {'offer id': '0b1e1539f2cc45b7b9fa7c272da2e1d7'}     0  \n",
       "2  {'offer id': '2906b810c7d4411798c6938adc9daaa5'}     0  \n",
       "3  {'offer id': 'fafdcd668e3743c1bb461111dcafc2a4'}     0  \n",
       "4  {'offer id': '4d5c57ea9a6940dd891ad53e9dbe8da0'}     0  "
      ]
     },
     "execution_count": 14,
     "metadata": {},
     "output_type": "execute_result"
    }
   ],
   "source": [
    "transcript.head()"
   ]
  },
  {
   "cell_type": "code",
   "execution_count": 15,
   "metadata": {},
   "outputs": [
    {
     "data": {
      "text/plain": [
       "(306534, 4)"
      ]
     },
     "execution_count": 15,
     "metadata": {},
     "output_type": "execute_result"
    }
   ],
   "source": [
    "transcript.shape"
   ]
  },
  {
   "cell_type": "code",
   "execution_count": 16,
   "metadata": {},
   "outputs": [
    {
     "data": {
      "text/html": [
       "<div>\n",
       "<style scoped>\n",
       "    .dataframe tbody tr th:only-of-type {\n",
       "        vertical-align: middle;\n",
       "    }\n",
       "\n",
       "    .dataframe tbody tr th {\n",
       "        vertical-align: top;\n",
       "    }\n",
       "\n",
       "    .dataframe thead th {\n",
       "        text-align: right;\n",
       "    }\n",
       "</style>\n",
       "<table border=\"1\" class=\"dataframe\">\n",
       "  <thead>\n",
       "    <tr style=\"text-align: right;\">\n",
       "      <th></th>\n",
       "      <th>time</th>\n",
       "    </tr>\n",
       "  </thead>\n",
       "  <tbody>\n",
       "    <tr>\n",
       "      <th>count</th>\n",
       "      <td>306534.000000</td>\n",
       "    </tr>\n",
       "    <tr>\n",
       "      <th>mean</th>\n",
       "      <td>366.382940</td>\n",
       "    </tr>\n",
       "    <tr>\n",
       "      <th>std</th>\n",
       "      <td>200.326314</td>\n",
       "    </tr>\n",
       "    <tr>\n",
       "      <th>min</th>\n",
       "      <td>0.000000</td>\n",
       "    </tr>\n",
       "    <tr>\n",
       "      <th>25%</th>\n",
       "      <td>186.000000</td>\n",
       "    </tr>\n",
       "    <tr>\n",
       "      <th>50%</th>\n",
       "      <td>408.000000</td>\n",
       "    </tr>\n",
       "    <tr>\n",
       "      <th>75%</th>\n",
       "      <td>528.000000</td>\n",
       "    </tr>\n",
       "    <tr>\n",
       "      <th>max</th>\n",
       "      <td>714.000000</td>\n",
       "    </tr>\n",
       "  </tbody>\n",
       "</table>\n",
       "</div>"
      ],
      "text/plain": [
       "                time\n",
       "count  306534.000000\n",
       "mean      366.382940\n",
       "std       200.326314\n",
       "min         0.000000\n",
       "25%       186.000000\n",
       "50%       408.000000\n",
       "75%       528.000000\n",
       "max       714.000000"
      ]
     },
     "execution_count": 16,
     "metadata": {},
     "output_type": "execute_result"
    }
   ],
   "source": [
    "transcript.describe()"
   ]
  },
  {
   "cell_type": "code",
   "execution_count": 17,
   "metadata": {},
   "outputs": [
    {
     "name": "stdout",
     "output_type": "stream",
     "text": [
      "<class 'pandas.core.frame.DataFrame'>\n",
      "RangeIndex: 306534 entries, 0 to 306533\n",
      "Data columns (total 4 columns):\n",
      " #   Column  Non-Null Count   Dtype \n",
      "---  ------  --------------   ----- \n",
      " 0   person  306534 non-null  object\n",
      " 1   event   306534 non-null  object\n",
      " 2   value   306534 non-null  object\n",
      " 3   time    306534 non-null  int64 \n",
      "dtypes: int64(1), object(3)\n",
      "memory usage: 9.4+ MB\n"
     ]
    }
   ],
   "source": [
    "transcript.info()"
   ]
  },
  {
   "cell_type": "code",
   "execution_count": 18,
   "metadata": {},
   "outputs": [
    {
     "data": {
      "text/plain": [
       "event\n",
       "transaction        138953\n",
       "offer received      76277\n",
       "offer viewed        57725\n",
       "offer completed     33579\n",
       "Name: count, dtype: int64"
      ]
     },
     "execution_count": 18,
     "metadata": {},
     "output_type": "execute_result"
    }
   ],
   "source": [
    "transcript['event'].value_counts()"
   ]
  },
  {
   "cell_type": "markdown",
   "metadata": {},
   "source": [
    "## 2. Data Cleaning"
   ]
  },
  {
   "cell_type": "markdown",
   "metadata": {},
   "source": [
    "### Clean and preprocess portfolio data"
   ]
  },
  {
   "cell_type": "code",
   "execution_count": 19,
   "metadata": {},
   "outputs": [
    {
     "data": {
      "text/html": [
       "<div>\n",
       "<style scoped>\n",
       "    .dataframe tbody tr th:only-of-type {\n",
       "        vertical-align: middle;\n",
       "    }\n",
       "\n",
       "    .dataframe tbody tr th {\n",
       "        vertical-align: top;\n",
       "    }\n",
       "\n",
       "    .dataframe thead th {\n",
       "        text-align: right;\n",
       "    }\n",
       "</style>\n",
       "<table border=\"1\" class=\"dataframe\">\n",
       "  <thead>\n",
       "    <tr style=\"text-align: right;\">\n",
       "      <th></th>\n",
       "      <th>email</th>\n",
       "      <th>mobile</th>\n",
       "      <th>social</th>\n",
       "      <th>web</th>\n",
       "    </tr>\n",
       "  </thead>\n",
       "  <tbody>\n",
       "    <tr>\n",
       "      <th>0</th>\n",
       "      <td>1</td>\n",
       "      <td>1</td>\n",
       "      <td>1</td>\n",
       "      <td>0</td>\n",
       "    </tr>\n",
       "    <tr>\n",
       "      <th>1</th>\n",
       "      <td>1</td>\n",
       "      <td>1</td>\n",
       "      <td>1</td>\n",
       "      <td>1</td>\n",
       "    </tr>\n",
       "    <tr>\n",
       "      <th>2</th>\n",
       "      <td>1</td>\n",
       "      <td>1</td>\n",
       "      <td>0</td>\n",
       "      <td>1</td>\n",
       "    </tr>\n",
       "    <tr>\n",
       "      <th>3</th>\n",
       "      <td>1</td>\n",
       "      <td>1</td>\n",
       "      <td>0</td>\n",
       "      <td>1</td>\n",
       "    </tr>\n",
       "    <tr>\n",
       "      <th>4</th>\n",
       "      <td>1</td>\n",
       "      <td>0</td>\n",
       "      <td>0</td>\n",
       "      <td>1</td>\n",
       "    </tr>\n",
       "    <tr>\n",
       "      <th>5</th>\n",
       "      <td>1</td>\n",
       "      <td>1</td>\n",
       "      <td>1</td>\n",
       "      <td>1</td>\n",
       "    </tr>\n",
       "    <tr>\n",
       "      <th>6</th>\n",
       "      <td>1</td>\n",
       "      <td>1</td>\n",
       "      <td>1</td>\n",
       "      <td>1</td>\n",
       "    </tr>\n",
       "    <tr>\n",
       "      <th>7</th>\n",
       "      <td>1</td>\n",
       "      <td>1</td>\n",
       "      <td>1</td>\n",
       "      <td>0</td>\n",
       "    </tr>\n",
       "    <tr>\n",
       "      <th>8</th>\n",
       "      <td>1</td>\n",
       "      <td>1</td>\n",
       "      <td>1</td>\n",
       "      <td>1</td>\n",
       "    </tr>\n",
       "    <tr>\n",
       "      <th>9</th>\n",
       "      <td>1</td>\n",
       "      <td>1</td>\n",
       "      <td>0</td>\n",
       "      <td>1</td>\n",
       "    </tr>\n",
       "  </tbody>\n",
       "</table>\n",
       "</div>"
      ],
      "text/plain": [
       "   email  mobile  social  web\n",
       "0      1       1       1    0\n",
       "1      1       1       1    1\n",
       "2      1       1       0    1\n",
       "3      1       1       0    1\n",
       "4      1       0       0    1\n",
       "5      1       1       1    1\n",
       "6      1       1       1    1\n",
       "7      1       1       1    0\n",
       "8      1       1       1    1\n",
       "9      1       1       0    1"
      ]
     },
     "execution_count": 19,
     "metadata": {},
     "output_type": "execute_result"
    }
   ],
   "source": [
    "# Get dummy variables for channels column\n",
    "portfolio_channel_dummies = pd.get_dummies(portfolio['channels'].explode(), dtype=int).groupby(level=0).sum()\n",
    "portfolio_channel_dummies"
   ]
  },
  {
   "cell_type": "code",
   "execution_count": 20,
   "metadata": {},
   "outputs": [
    {
     "data": {
      "text/html": [
       "<div>\n",
       "<style scoped>\n",
       "    .dataframe tbody tr th:only-of-type {\n",
       "        vertical-align: middle;\n",
       "    }\n",
       "\n",
       "    .dataframe tbody tr th {\n",
       "        vertical-align: top;\n",
       "    }\n",
       "\n",
       "    .dataframe thead th {\n",
       "        text-align: right;\n",
       "    }\n",
       "</style>\n",
       "<table border=\"1\" class=\"dataframe\">\n",
       "  <thead>\n",
       "    <tr style=\"text-align: right;\">\n",
       "      <th></th>\n",
       "      <th>bogo</th>\n",
       "      <th>discount</th>\n",
       "      <th>informational</th>\n",
       "    </tr>\n",
       "  </thead>\n",
       "  <tbody>\n",
       "    <tr>\n",
       "      <th>0</th>\n",
       "      <td>1</td>\n",
       "      <td>0</td>\n",
       "      <td>0</td>\n",
       "    </tr>\n",
       "    <tr>\n",
       "      <th>1</th>\n",
       "      <td>1</td>\n",
       "      <td>0</td>\n",
       "      <td>0</td>\n",
       "    </tr>\n",
       "    <tr>\n",
       "      <th>2</th>\n",
       "      <td>0</td>\n",
       "      <td>0</td>\n",
       "      <td>1</td>\n",
       "    </tr>\n",
       "    <tr>\n",
       "      <th>3</th>\n",
       "      <td>1</td>\n",
       "      <td>0</td>\n",
       "      <td>0</td>\n",
       "    </tr>\n",
       "    <tr>\n",
       "      <th>4</th>\n",
       "      <td>0</td>\n",
       "      <td>1</td>\n",
       "      <td>0</td>\n",
       "    </tr>\n",
       "    <tr>\n",
       "      <th>5</th>\n",
       "      <td>0</td>\n",
       "      <td>1</td>\n",
       "      <td>0</td>\n",
       "    </tr>\n",
       "    <tr>\n",
       "      <th>6</th>\n",
       "      <td>0</td>\n",
       "      <td>1</td>\n",
       "      <td>0</td>\n",
       "    </tr>\n",
       "    <tr>\n",
       "      <th>7</th>\n",
       "      <td>0</td>\n",
       "      <td>0</td>\n",
       "      <td>1</td>\n",
       "    </tr>\n",
       "    <tr>\n",
       "      <th>8</th>\n",
       "      <td>1</td>\n",
       "      <td>0</td>\n",
       "      <td>0</td>\n",
       "    </tr>\n",
       "    <tr>\n",
       "      <th>9</th>\n",
       "      <td>0</td>\n",
       "      <td>1</td>\n",
       "      <td>0</td>\n",
       "    </tr>\n",
       "  </tbody>\n",
       "</table>\n",
       "</div>"
      ],
      "text/plain": [
       "   bogo  discount  informational\n",
       "0     1         0              0\n",
       "1     1         0              0\n",
       "2     0         0              1\n",
       "3     1         0              0\n",
       "4     0         1              0\n",
       "5     0         1              0\n",
       "6     0         1              0\n",
       "7     0         0              1\n",
       "8     1         0              0\n",
       "9     0         1              0"
      ]
     },
     "execution_count": 20,
     "metadata": {},
     "output_type": "execute_result"
    }
   ],
   "source": [
    "# Get dummy variables for offer_type column\n",
    "portfolio_offer_dummies = pd.get_dummies(portfolio['offer_type'], dtype=int)\n",
    "portfolio_offer_dummies"
   ]
  },
  {
   "cell_type": "code",
   "execution_count": 21,
   "metadata": {},
   "outputs": [
    {
     "data": {
      "text/html": [
       "<div>\n",
       "<style scoped>\n",
       "    .dataframe tbody tr th:only-of-type {\n",
       "        vertical-align: middle;\n",
       "    }\n",
       "\n",
       "    .dataframe tbody tr th {\n",
       "        vertical-align: top;\n",
       "    }\n",
       "\n",
       "    .dataframe thead th {\n",
       "        text-align: right;\n",
       "    }\n",
       "</style>\n",
       "<table border=\"1\" class=\"dataframe\">\n",
       "  <thead>\n",
       "    <tr style=\"text-align: right;\">\n",
       "      <th></th>\n",
       "      <th>reward</th>\n",
       "      <th>difficulty</th>\n",
       "      <th>duration</th>\n",
       "      <th>id</th>\n",
       "      <th>email</th>\n",
       "      <th>mobile</th>\n",
       "      <th>social</th>\n",
       "      <th>web</th>\n",
       "      <th>bogo</th>\n",
       "      <th>discount</th>\n",
       "      <th>informational</th>\n",
       "    </tr>\n",
       "  </thead>\n",
       "  <tbody>\n",
       "    <tr>\n",
       "      <th>0</th>\n",
       "      <td>10</td>\n",
       "      <td>10</td>\n",
       "      <td>7</td>\n",
       "      <td>ae264e3637204a6fb9bb56bc8210ddfd</td>\n",
       "      <td>1</td>\n",
       "      <td>1</td>\n",
       "      <td>1</td>\n",
       "      <td>0</td>\n",
       "      <td>1</td>\n",
       "      <td>0</td>\n",
       "      <td>0</td>\n",
       "    </tr>\n",
       "    <tr>\n",
       "      <th>1</th>\n",
       "      <td>10</td>\n",
       "      <td>10</td>\n",
       "      <td>5</td>\n",
       "      <td>4d5c57ea9a6940dd891ad53e9dbe8da0</td>\n",
       "      <td>1</td>\n",
       "      <td>1</td>\n",
       "      <td>1</td>\n",
       "      <td>1</td>\n",
       "      <td>1</td>\n",
       "      <td>0</td>\n",
       "      <td>0</td>\n",
       "    </tr>\n",
       "    <tr>\n",
       "      <th>2</th>\n",
       "      <td>0</td>\n",
       "      <td>0</td>\n",
       "      <td>4</td>\n",
       "      <td>3f207df678b143eea3cee63160fa8bed</td>\n",
       "      <td>1</td>\n",
       "      <td>1</td>\n",
       "      <td>0</td>\n",
       "      <td>1</td>\n",
       "      <td>0</td>\n",
       "      <td>0</td>\n",
       "      <td>1</td>\n",
       "    </tr>\n",
       "    <tr>\n",
       "      <th>3</th>\n",
       "      <td>5</td>\n",
       "      <td>5</td>\n",
       "      <td>7</td>\n",
       "      <td>9b98b8c7a33c4b65b9aebfe6a799e6d9</td>\n",
       "      <td>1</td>\n",
       "      <td>1</td>\n",
       "      <td>0</td>\n",
       "      <td>1</td>\n",
       "      <td>1</td>\n",
       "      <td>0</td>\n",
       "      <td>0</td>\n",
       "    </tr>\n",
       "    <tr>\n",
       "      <th>4</th>\n",
       "      <td>5</td>\n",
       "      <td>20</td>\n",
       "      <td>10</td>\n",
       "      <td>0b1e1539f2cc45b7b9fa7c272da2e1d7</td>\n",
       "      <td>1</td>\n",
       "      <td>0</td>\n",
       "      <td>0</td>\n",
       "      <td>1</td>\n",
       "      <td>0</td>\n",
       "      <td>1</td>\n",
       "      <td>0</td>\n",
       "    </tr>\n",
       "    <tr>\n",
       "      <th>5</th>\n",
       "      <td>3</td>\n",
       "      <td>7</td>\n",
       "      <td>7</td>\n",
       "      <td>2298d6c36e964ae4a3e7e9706d1fb8c2</td>\n",
       "      <td>1</td>\n",
       "      <td>1</td>\n",
       "      <td>1</td>\n",
       "      <td>1</td>\n",
       "      <td>0</td>\n",
       "      <td>1</td>\n",
       "      <td>0</td>\n",
       "    </tr>\n",
       "    <tr>\n",
       "      <th>6</th>\n",
       "      <td>2</td>\n",
       "      <td>10</td>\n",
       "      <td>10</td>\n",
       "      <td>fafdcd668e3743c1bb461111dcafc2a4</td>\n",
       "      <td>1</td>\n",
       "      <td>1</td>\n",
       "      <td>1</td>\n",
       "      <td>1</td>\n",
       "      <td>0</td>\n",
       "      <td>1</td>\n",
       "      <td>0</td>\n",
       "    </tr>\n",
       "    <tr>\n",
       "      <th>7</th>\n",
       "      <td>0</td>\n",
       "      <td>0</td>\n",
       "      <td>3</td>\n",
       "      <td>5a8bc65990b245e5a138643cd4eb9837</td>\n",
       "      <td>1</td>\n",
       "      <td>1</td>\n",
       "      <td>1</td>\n",
       "      <td>0</td>\n",
       "      <td>0</td>\n",
       "      <td>0</td>\n",
       "      <td>1</td>\n",
       "    </tr>\n",
       "    <tr>\n",
       "      <th>8</th>\n",
       "      <td>5</td>\n",
       "      <td>5</td>\n",
       "      <td>5</td>\n",
       "      <td>f19421c1d4aa40978ebb69ca19b0e20d</td>\n",
       "      <td>1</td>\n",
       "      <td>1</td>\n",
       "      <td>1</td>\n",
       "      <td>1</td>\n",
       "      <td>1</td>\n",
       "      <td>0</td>\n",
       "      <td>0</td>\n",
       "    </tr>\n",
       "    <tr>\n",
       "      <th>9</th>\n",
       "      <td>2</td>\n",
       "      <td>10</td>\n",
       "      <td>7</td>\n",
       "      <td>2906b810c7d4411798c6938adc9daaa5</td>\n",
       "      <td>1</td>\n",
       "      <td>1</td>\n",
       "      <td>0</td>\n",
       "      <td>1</td>\n",
       "      <td>0</td>\n",
       "      <td>1</td>\n",
       "      <td>0</td>\n",
       "    </tr>\n",
       "  </tbody>\n",
       "</table>\n",
       "</div>"
      ],
      "text/plain": [
       "   reward  difficulty  duration                                id  email  \\\n",
       "0      10          10         7  ae264e3637204a6fb9bb56bc8210ddfd      1   \n",
       "1      10          10         5  4d5c57ea9a6940dd891ad53e9dbe8da0      1   \n",
       "2       0           0         4  3f207df678b143eea3cee63160fa8bed      1   \n",
       "3       5           5         7  9b98b8c7a33c4b65b9aebfe6a799e6d9      1   \n",
       "4       5          20        10  0b1e1539f2cc45b7b9fa7c272da2e1d7      1   \n",
       "5       3           7         7  2298d6c36e964ae4a3e7e9706d1fb8c2      1   \n",
       "6       2          10        10  fafdcd668e3743c1bb461111dcafc2a4      1   \n",
       "7       0           0         3  5a8bc65990b245e5a138643cd4eb9837      1   \n",
       "8       5           5         5  f19421c1d4aa40978ebb69ca19b0e20d      1   \n",
       "9       2          10         7  2906b810c7d4411798c6938adc9daaa5      1   \n",
       "\n",
       "   mobile  social  web  bogo  discount  informational  \n",
       "0       1       1    0     1         0              0  \n",
       "1       1       1    1     1         0              0  \n",
       "2       1       0    1     0         0              1  \n",
       "3       1       0    1     1         0              0  \n",
       "4       0       0    1     0         1              0  \n",
       "5       1       1    1     0         1              0  \n",
       "6       1       1    1     0         1              0  \n",
       "7       1       1    0     0         0              1  \n",
       "8       1       1    1     1         0              0  \n",
       "9       1       0    1     0         1              0  "
      ]
     },
     "execution_count": 21,
     "metadata": {},
     "output_type": "execute_result"
    }
   ],
   "source": [
    "clean_portfolio = pd.concat([portfolio, portfolio_channel_dummies, portfolio_offer_dummies], axis=1) # concat dummy variables to portfolio dataframe\n",
    "clean_portfolio = clean_portfolio.drop(['channels', 'offer_type'], axis=1) # drop channels and offer_type columns\n",
    "clean_portfolio"
   ]
  },
  {
   "cell_type": "markdown",
   "metadata": {},
   "source": [
    "### Clean and preprocess profile data"
   ]
  },
  {
   "cell_type": "code",
   "execution_count": 22,
   "metadata": {},
   "outputs": [
    {
     "data": {
      "text/plain": [
       "gender              2175\n",
       "age                    0\n",
       "id                     0\n",
       "became_member_on       0\n",
       "income              2175\n",
       "dtype: int64"
      ]
     },
     "execution_count": 22,
     "metadata": {},
     "output_type": "execute_result"
    }
   ],
   "source": [
    "# Count null values\n",
    "profile.isnull().sum()"
   ]
  },
  {
   "cell_type": "code",
   "execution_count": 23,
   "metadata": {},
   "outputs": [
    {
     "data": {
      "text/html": [
       "<div>\n",
       "<style scoped>\n",
       "    .dataframe tbody tr th:only-of-type {\n",
       "        vertical-align: middle;\n",
       "    }\n",
       "\n",
       "    .dataframe tbody tr th {\n",
       "        vertical-align: top;\n",
       "    }\n",
       "\n",
       "    .dataframe thead th {\n",
       "        text-align: right;\n",
       "    }\n",
       "</style>\n",
       "<table border=\"1\" class=\"dataframe\">\n",
       "  <thead>\n",
       "    <tr style=\"text-align: right;\">\n",
       "      <th></th>\n",
       "      <th>gender</th>\n",
       "      <th>age</th>\n",
       "      <th>id</th>\n",
       "      <th>became_member_on</th>\n",
       "      <th>income</th>\n",
       "    </tr>\n",
       "  </thead>\n",
       "  <tbody>\n",
       "    <tr>\n",
       "      <th>1</th>\n",
       "      <td>F</td>\n",
       "      <td>55</td>\n",
       "      <td>0610b486422d4921ae7d2bf64640c50b</td>\n",
       "      <td>20170715</td>\n",
       "      <td>112000.0</td>\n",
       "    </tr>\n",
       "    <tr>\n",
       "      <th>3</th>\n",
       "      <td>F</td>\n",
       "      <td>75</td>\n",
       "      <td>78afa995795e4d85b5d9ceeca43f5fef</td>\n",
       "      <td>20170509</td>\n",
       "      <td>100000.0</td>\n",
       "    </tr>\n",
       "    <tr>\n",
       "      <th>5</th>\n",
       "      <td>M</td>\n",
       "      <td>68</td>\n",
       "      <td>e2127556f4f64592b11af22de27a7932</td>\n",
       "      <td>20180426</td>\n",
       "      <td>70000.0</td>\n",
       "    </tr>\n",
       "    <tr>\n",
       "      <th>8</th>\n",
       "      <td>M</td>\n",
       "      <td>65</td>\n",
       "      <td>389bc3fa690240e798340f5a15918d5c</td>\n",
       "      <td>20180209</td>\n",
       "      <td>53000.0</td>\n",
       "    </tr>\n",
       "    <tr>\n",
       "      <th>12</th>\n",
       "      <td>M</td>\n",
       "      <td>58</td>\n",
       "      <td>2eeac8d8feae4a8cad5a6af0499a211d</td>\n",
       "      <td>20171111</td>\n",
       "      <td>51000.0</td>\n",
       "    </tr>\n",
       "  </tbody>\n",
       "</table>\n",
       "</div>"
      ],
      "text/plain": [
       "   gender  age                                id  became_member_on    income\n",
       "1       F   55  0610b486422d4921ae7d2bf64640c50b          20170715  112000.0\n",
       "3       F   75  78afa995795e4d85b5d9ceeca43f5fef          20170509  100000.0\n",
       "5       M   68  e2127556f4f64592b11af22de27a7932          20180426   70000.0\n",
       "8       M   65  389bc3fa690240e798340f5a15918d5c          20180209   53000.0\n",
       "12      M   58  2eeac8d8feae4a8cad5a6af0499a211d          20171111   51000.0"
      ]
     },
     "execution_count": 23,
     "metadata": {},
     "output_type": "execute_result"
    }
   ],
   "source": [
    "# Since the null values for the gender and income columns are the same, we can assume that the same rows have null values for both column and drop them\n",
    "clean_profile =  profile.dropna()\n",
    "clean_profile.head()"
   ]
  },
  {
   "cell_type": "markdown",
   "metadata": {},
   "source": [
    "### Clean and preprocess transcript data"
   ]
  },
  {
   "cell_type": "code",
   "execution_count": 24,
   "metadata": {},
   "outputs": [
    {
     "data": {
      "text/html": [
       "<div>\n",
       "<style scoped>\n",
       "    .dataframe tbody tr th:only-of-type {\n",
       "        vertical-align: middle;\n",
       "    }\n",
       "\n",
       "    .dataframe tbody tr th {\n",
       "        vertical-align: top;\n",
       "    }\n",
       "\n",
       "    .dataframe thead th {\n",
       "        text-align: right;\n",
       "    }\n",
       "</style>\n",
       "<table border=\"1\" class=\"dataframe\">\n",
       "  <thead>\n",
       "    <tr style=\"text-align: right;\">\n",
       "      <th></th>\n",
       "      <th>person</th>\n",
       "      <th>event</th>\n",
       "      <th>value</th>\n",
       "      <th>time</th>\n",
       "    </tr>\n",
       "  </thead>\n",
       "  <tbody>\n",
       "    <tr>\n",
       "      <th>0</th>\n",
       "      <td>78afa995795e4d85b5d9ceeca43f5fef</td>\n",
       "      <td>offer received</td>\n",
       "      <td>{'offer id': '9b98b8c7a33c4b65b9aebfe6a799e6d9'}</td>\n",
       "      <td>0</td>\n",
       "    </tr>\n",
       "    <tr>\n",
       "      <th>1</th>\n",
       "      <td>a03223e636434f42ac4c3df47e8bac43</td>\n",
       "      <td>offer received</td>\n",
       "      <td>{'offer id': '0b1e1539f2cc45b7b9fa7c272da2e1d7'}</td>\n",
       "      <td>0</td>\n",
       "    </tr>\n",
       "    <tr>\n",
       "      <th>2</th>\n",
       "      <td>e2127556f4f64592b11af22de27a7932</td>\n",
       "      <td>offer received</td>\n",
       "      <td>{'offer id': '2906b810c7d4411798c6938adc9daaa5'}</td>\n",
       "      <td>0</td>\n",
       "    </tr>\n",
       "    <tr>\n",
       "      <th>3</th>\n",
       "      <td>8ec6ce2a7e7949b1bf142def7d0e0586</td>\n",
       "      <td>offer received</td>\n",
       "      <td>{'offer id': 'fafdcd668e3743c1bb461111dcafc2a4'}</td>\n",
       "      <td>0</td>\n",
       "    </tr>\n",
       "    <tr>\n",
       "      <th>4</th>\n",
       "      <td>68617ca6246f4fbc85e91a2a49552598</td>\n",
       "      <td>offer received</td>\n",
       "      <td>{'offer id': '4d5c57ea9a6940dd891ad53e9dbe8da0'}</td>\n",
       "      <td>0</td>\n",
       "    </tr>\n",
       "  </tbody>\n",
       "</table>\n",
       "</div>"
      ],
      "text/plain": [
       "                             person           event  \\\n",
       "0  78afa995795e4d85b5d9ceeca43f5fef  offer received   \n",
       "1  a03223e636434f42ac4c3df47e8bac43  offer received   \n",
       "2  e2127556f4f64592b11af22de27a7932  offer received   \n",
       "3  8ec6ce2a7e7949b1bf142def7d0e0586  offer received   \n",
       "4  68617ca6246f4fbc85e91a2a49552598  offer received   \n",
       "\n",
       "                                              value  time  \n",
       "0  {'offer id': '9b98b8c7a33c4b65b9aebfe6a799e6d9'}     0  \n",
       "1  {'offer id': '0b1e1539f2cc45b7b9fa7c272da2e1d7'}     0  \n",
       "2  {'offer id': '2906b810c7d4411798c6938adc9daaa5'}     0  \n",
       "3  {'offer id': 'fafdcd668e3743c1bb461111dcafc2a4'}     0  \n",
       "4  {'offer id': '4d5c57ea9a6940dd891ad53e9dbe8da0'}     0  "
      ]
     },
     "execution_count": 24,
     "metadata": {},
     "output_type": "execute_result"
    }
   ],
   "source": [
    "transcript.head()"
   ]
  },
  {
   "cell_type": "code",
   "execution_count": 25,
   "metadata": {},
   "outputs": [
    {
     "data": {
      "text/plain": [
       "event\n",
       "transaction        138953\n",
       "offer received      76277\n",
       "offer viewed        57725\n",
       "offer completed     33579\n",
       "Name: count, dtype: int64"
      ]
     },
     "execution_count": 25,
     "metadata": {},
     "output_type": "execute_result"
    }
   ],
   "source": [
    "transcript['event'].value_counts()"
   ]
  },
  {
   "cell_type": "code",
   "execution_count": 26,
   "metadata": {},
   "outputs": [
    {
     "data": {
      "text/html": [
       "<div>\n",
       "<style scoped>\n",
       "    .dataframe tbody tr th:only-of-type {\n",
       "        vertical-align: middle;\n",
       "    }\n",
       "\n",
       "    .dataframe tbody tr th {\n",
       "        vertical-align: top;\n",
       "    }\n",
       "\n",
       "    .dataframe thead th {\n",
       "        text-align: right;\n",
       "    }\n",
       "</style>\n",
       "<table border=\"1\" class=\"dataframe\">\n",
       "  <thead>\n",
       "    <tr style=\"text-align: right;\">\n",
       "      <th></th>\n",
       "      <th>person</th>\n",
       "      <th>event</th>\n",
       "      <th>time</th>\n",
       "      <th>offer_id</th>\n",
       "    </tr>\n",
       "  </thead>\n",
       "  <tbody>\n",
       "    <tr>\n",
       "      <th>0</th>\n",
       "      <td>78afa995795e4d85b5d9ceeca43f5fef</td>\n",
       "      <td>offer received</td>\n",
       "      <td>0</td>\n",
       "      <td>9b98b8c7a33c4b65b9aebfe6a799e6d9</td>\n",
       "    </tr>\n",
       "    <tr>\n",
       "      <th>1</th>\n",
       "      <td>a03223e636434f42ac4c3df47e8bac43</td>\n",
       "      <td>offer received</td>\n",
       "      <td>0</td>\n",
       "      <td>0b1e1539f2cc45b7b9fa7c272da2e1d7</td>\n",
       "    </tr>\n",
       "    <tr>\n",
       "      <th>2</th>\n",
       "      <td>e2127556f4f64592b11af22de27a7932</td>\n",
       "      <td>offer received</td>\n",
       "      <td>0</td>\n",
       "      <td>2906b810c7d4411798c6938adc9daaa5</td>\n",
       "    </tr>\n",
       "    <tr>\n",
       "      <th>3</th>\n",
       "      <td>8ec6ce2a7e7949b1bf142def7d0e0586</td>\n",
       "      <td>offer received</td>\n",
       "      <td>0</td>\n",
       "      <td>fafdcd668e3743c1bb461111dcafc2a4</td>\n",
       "    </tr>\n",
       "    <tr>\n",
       "      <th>4</th>\n",
       "      <td>68617ca6246f4fbc85e91a2a49552598</td>\n",
       "      <td>offer received</td>\n",
       "      <td>0</td>\n",
       "      <td>4d5c57ea9a6940dd891ad53e9dbe8da0</td>\n",
       "    </tr>\n",
       "    <tr>\n",
       "      <th>...</th>\n",
       "      <td>...</td>\n",
       "      <td>...</td>\n",
       "      <td>...</td>\n",
       "      <td>...</td>\n",
       "    </tr>\n",
       "    <tr>\n",
       "      <th>306497</th>\n",
       "      <td>a6f84f4e976f44508c358cc9aba6d2b3</td>\n",
       "      <td>offer completed</td>\n",
       "      <td>714</td>\n",
       "      <td>2298d6c36e964ae4a3e7e9706d1fb8c2</td>\n",
       "    </tr>\n",
       "    <tr>\n",
       "      <th>306506</th>\n",
       "      <td>b895c57e8cd047a8872ce02aa54759d6</td>\n",
       "      <td>offer completed</td>\n",
       "      <td>714</td>\n",
       "      <td>fafdcd668e3743c1bb461111dcafc2a4</td>\n",
       "    </tr>\n",
       "    <tr>\n",
       "      <th>306507</th>\n",
       "      <td>8dda575c2a1d44b9ac8e8b07b93d1f8e</td>\n",
       "      <td>offer viewed</td>\n",
       "      <td>714</td>\n",
       "      <td>0b1e1539f2cc45b7b9fa7c272da2e1d7</td>\n",
       "    </tr>\n",
       "    <tr>\n",
       "      <th>306509</th>\n",
       "      <td>8431c16f8e1d440880db371a68f82dd0</td>\n",
       "      <td>offer completed</td>\n",
       "      <td>714</td>\n",
       "      <td>fafdcd668e3743c1bb461111dcafc2a4</td>\n",
       "    </tr>\n",
       "    <tr>\n",
       "      <th>306527</th>\n",
       "      <td>24f56b5e1849462093931b164eb803b5</td>\n",
       "      <td>offer completed</td>\n",
       "      <td>714</td>\n",
       "      <td>fafdcd668e3743c1bb461111dcafc2a4</td>\n",
       "    </tr>\n",
       "  </tbody>\n",
       "</table>\n",
       "<p>167581 rows × 4 columns</p>\n",
       "</div>"
      ],
      "text/plain": [
       "                                  person            event  time  \\\n",
       "0       78afa995795e4d85b5d9ceeca43f5fef   offer received     0   \n",
       "1       a03223e636434f42ac4c3df47e8bac43   offer received     0   \n",
       "2       e2127556f4f64592b11af22de27a7932   offer received     0   \n",
       "3       8ec6ce2a7e7949b1bf142def7d0e0586   offer received     0   \n",
       "4       68617ca6246f4fbc85e91a2a49552598   offer received     0   \n",
       "...                                  ...              ...   ...   \n",
       "306497  a6f84f4e976f44508c358cc9aba6d2b3  offer completed   714   \n",
       "306506  b895c57e8cd047a8872ce02aa54759d6  offer completed   714   \n",
       "306507  8dda575c2a1d44b9ac8e8b07b93d1f8e     offer viewed   714   \n",
       "306509  8431c16f8e1d440880db371a68f82dd0  offer completed   714   \n",
       "306527  24f56b5e1849462093931b164eb803b5  offer completed   714   \n",
       "\n",
       "                                offer_id  \n",
       "0       9b98b8c7a33c4b65b9aebfe6a799e6d9  \n",
       "1       0b1e1539f2cc45b7b9fa7c272da2e1d7  \n",
       "2       2906b810c7d4411798c6938adc9daaa5  \n",
       "3       fafdcd668e3743c1bb461111dcafc2a4  \n",
       "4       4d5c57ea9a6940dd891ad53e9dbe8da0  \n",
       "...                                  ...  \n",
       "306497  2298d6c36e964ae4a3e7e9706d1fb8c2  \n",
       "306506  fafdcd668e3743c1bb461111dcafc2a4  \n",
       "306507  0b1e1539f2cc45b7b9fa7c272da2e1d7  \n",
       "306509  fafdcd668e3743c1bb461111dcafc2a4  \n",
       "306527  fafdcd668e3743c1bb461111dcafc2a4  \n",
       "\n",
       "[167581 rows x 4 columns]"
      ]
     },
     "execution_count": 26,
     "metadata": {},
     "output_type": "execute_result"
    }
   ],
   "source": [
    "# Remove transaction event rows\n",
    "clean_transcript =  transcript[transcript['event'] != 'transaction']\n",
    "\n",
    "# Extract the rows that are related to the event\n",
    "clean_transcript = clean_transcript[clean_transcript['value'].apply(lambda x: True if ('offer id' in x) or ('offer_id' in x) else False)]\n",
    "\n",
    "# Extract the offer id from value column\n",
    "clean_transcript['offer_id'] = clean_transcript['value'].apply(lambda x: x['offer id'] if ('offer id' in x) else x['offer_id'])\n",
    "\n",
    "# Drop the value column\n",
    "clean_transcript = clean_transcript.drop('value', axis=1)\n",
    "\n",
    "clean_transcript"
   ]
  },
  {
   "cell_type": "markdown",
   "metadata": {},
   "source": [
    "## 3. Exploratory Data Analysis"
   ]
  },
  {
   "cell_type": "markdown",
   "metadata": {},
   "source": [
    "### **What is the gender distribution?**"
   ]
  },
  {
   "cell_type": "code",
   "execution_count": 27,
   "metadata": {},
   "outputs": [
    {
     "data": {
      "text/plain": [
       "array([8484, 6129,  212], dtype=int64)"
      ]
     },
     "execution_count": 27,
     "metadata": {},
     "output_type": "execute_result"
    }
   ],
   "source": [
    "clean_profile['gender'].value_counts().values"
   ]
  },
  {
   "cell_type": "code",
   "execution_count": 28,
   "metadata": {},
   "outputs": [
    {
     "data": {
      "text/plain": [
       "Text(0, 0.5, 'Count')"
      ]
     },
     "execution_count": 28,
     "metadata": {},
     "output_type": "execute_result"
    },
    {
     "data": {
      "image/png": "[encoded data removed]",
      "text/plain": [
       "<Figure size 640x480 with 1 Axes>"
      ]
     },
     "metadata": {},
     "output_type": "display_data"
    }
   ],
   "source": [
    "plt.bar(clean_profile['gender'].value_counts().index, clean_profile['gender'].value_counts().values, color=['Blue', 'Red', 'Green'])\n",
    "plt.title('Gender Distribution')\n",
    "plt.xlabel('Gender')\n",
    "plt.ylabel('Count')"
   ]
  },
  {
   "cell_type": "markdown",
   "metadata": {},
   "source": [
    "There are more male than female and other customers in the study. There are 8484 men, 6129 female and 212 other customers."
   ]
  },
  {
   "cell_type": "markdown",
   "metadata": {},
   "source": [
    "### **What is the income distribution between males and females?**"
   ]
  },
  {
   "cell_type": "code",
   "execution_count": 29,
   "metadata": {},
   "outputs": [
    {
     "data": {
      "text/plain": [
       "<matplotlib.legend.Legend at 0x28bb3dc7cd0>"
      ]
     },
     "execution_count": 29,
     "metadata": {},
     "output_type": "execute_result"
    },
    {
     "data": {
      "image/png": "[encoded data removed]",
      "text/plain": [
       "<Figure size 640x480 with 1 Axes>"
      ]
     },
     "metadata": {},
     "output_type": "display_data"
    }
   ],
   "source": [
    "sns.distplot(clean_profile[clean_profile['gender']=='M']['income'],hist=False,color=\"b\", kde_kws={\"shade\": True});\n",
    "sns.distplot(clean_profile[clean_profile['gender']=='F']['income'],hist=False,color=\"r\", kde_kws={\"shade\": True});\n",
    "plt.title('Income Distribution by Gender')\n",
    "plt.legend(['Male','Female'],frameon=False)"
   ]
  },
  {
   "cell_type": "code",
   "execution_count": 30,
   "metadata": {},
   "outputs": [
    {
     "data": {
      "text/plain": [
       "(count      8484.000000\n",
       " mean      61194.601603\n",
       " std       20069.517615\n",
       " min       30000.000000\n",
       " 25%       45000.000000\n",
       " 50%       59000.000000\n",
       " 75%       73000.000000\n",
       " max      120000.000000\n",
       " Name: income, dtype: float64,\n",
       " count      6129.000000\n",
       " mean      71306.412139\n",
       " std       22338.353773\n",
       " min       30000.000000\n",
       " 25%       54000.000000\n",
       " 50%       71000.000000\n",
       " 75%       88000.000000\n",
       " max      120000.000000\n",
       " Name: income, dtype: float64)"
      ]
     },
     "execution_count": 30,
     "metadata": {},
     "output_type": "execute_result"
    }
   ],
   "source": [
    "clean_profile[clean_profile['gender']=='M']['income'].describe(), clean_profile[clean_profile['gender']=='F']['income'].describe()"
   ]
  },
  {
   "cell_type": "code",
   "execution_count": 31,
   "metadata": {},
   "outputs": [
    {
     "data": {
      "text/plain": [
       "count     14825.000000\n",
       "mean      65404.991568\n",
       "std       21598.299410\n",
       "min       30000.000000\n",
       "25%       49000.000000\n",
       "50%       64000.000000\n",
       "75%       80000.000000\n",
       "max      120000.000000\n",
       "Name: income, dtype: float64"
      ]
     },
     "execution_count": 31,
     "metadata": {},
     "output_type": "execute_result"
    }
   ],
   "source": [
    "clean_profile['income'].describe()"
   ]
  },
  {
   "cell_type": "markdown",
   "metadata": {},
   "source": [
    "The findings indicate that the income distribution among male and female customers exhibits considerable similarity, with an overall average income close to 65405. However, the average income of male customers seems to lean lower at approximately 61195, whereas the average female income is marginally higher, hovering around 71306."
   ]
  },
  {
   "cell_type": "markdown",
   "metadata": {},
   "source": [
    "### **What is the age distribution between males and females?**"
   ]
  },
  {
   "cell_type": "code",
   "execution_count": 32,
   "metadata": {},
   "outputs": [
    {
     "data": {
      "text/plain": [
       "<matplotlib.legend.Legend at 0x28bb8bd99d0>"
      ]
     },
     "execution_count": 32,
     "metadata": {},
     "output_type": "execute_result"
    },
    {
     "data": {
      "image/png": "[encoded data removed]",
      "text/plain": [
       "<Figure size 640x480 with 1 Axes>"
      ]
     },
     "metadata": {},
     "output_type": "display_data"
    }
   ],
   "source": [
    "sns.distplot(clean_profile[profile['gender']=='M']['age'],hist=False,color=\"b\", kde_kws={\"shade\": True})\n",
    "sns.distplot(clean_profile[profile['gender']=='F']['age'],hist=False,color=\"r\", kde_kws={\"shade\": True})\n",
    "plt.title('Age Distribution by Gender')\n",
    "plt.legend(['Male','Female'],frameon=False)"
   ]
  },
  {
   "cell_type": "code",
   "execution_count": 33,
   "metadata": {},
   "outputs": [
    {
     "data": {
      "text/plain": [
       "(count    8484.000000\n",
       " mean       52.116690\n",
       " std        17.413894\n",
       " min        18.000000\n",
       " 25%        39.000000\n",
       " 50%        53.000000\n",
       " 75%        65.000000\n",
       " max       100.000000\n",
       " Name: age, dtype: float64,\n",
       " count    6129.000000\n",
       " mean       57.544950\n",
       " std        16.883315\n",
       " min        18.000000\n",
       " 25%        48.000000\n",
       " 50%        58.000000\n",
       " 75%        69.000000\n",
       " max       101.000000\n",
       " Name: age, dtype: float64)"
      ]
     },
     "execution_count": 33,
     "metadata": {},
     "output_type": "execute_result"
    }
   ],
   "source": [
    "clean_profile[profile['gender']=='M']['age'].describe(), clean_profile[profile['gender']=='F']['age'].describe()"
   ]
  },
  {
   "cell_type": "code",
   "execution_count": 34,
   "metadata": {},
   "outputs": [
    {
     "data": {
      "text/plain": [
       "count    14825.000000\n",
       "mean        54.393524\n",
       "std         17.383705\n",
       "min         18.000000\n",
       "25%         42.000000\n",
       "50%         55.000000\n",
       "75%         66.000000\n",
       "max        101.000000\n",
       "Name: age, dtype: float64"
      ]
     },
     "execution_count": 34,
     "metadata": {},
     "output_type": "execute_result"
    }
   ],
   "source": [
    "clean_profile['age'].describe()"
   ]
  },
  {
   "cell_type": "markdown",
   "metadata": {},
   "source": [
    "The study shows that male and female customers are around the same age, with most customers being close to 54 years old. However, male customers are usually a bit younger, with an average around 52 years old, while female customers are a little older, typically around 57."
   ]
  },
  {
   "cell_type": "markdown",
   "metadata": {},
   "source": [
    "### **When did customers become members?**"
   ]
  },
  {
   "cell_type": "code",
   "execution_count": 35,
   "metadata": {},
   "outputs": [
    {
     "data": {
      "text/plain": [
       "Text(0, 0.5, 'Count')"
      ]
     },
     "execution_count": 35,
     "metadata": {},
     "output_type": "execute_result"
    },
    {
     "data": {
      "image/png": "[encoded data removed]",
      "text/plain": [
       "<Figure size 640x480 with 1 Axes>"
      ]
     },
     "metadata": {},
     "output_type": "display_data"
    }
   ],
   "source": [
    "pd.to_datetime(clean_profile['became_member_on'], format='%Y%m%d').hist()\n",
    "plt.title('Membership Start Date Distribution')\n",
    "plt.xlabel('Date')\n",
    "plt.ylabel('Count')"
   ]
  },
  {
   "cell_type": "markdown",
   "metadata": {},
   "source": [
    "We can see that more more people became members in recent years. The number of members increased from 2013 to 2018, with the most members joining in 2017."
   ]
  },
  {
   "cell_type": "markdown",
   "metadata": {},
   "source": [
    "## 4. Create user-item matrix"
   ]
  },
  {
   "cell_type": "code",
   "execution_count": 36,
   "metadata": {},
   "outputs": [
    {
     "data": {
      "text/html": [
       "<div>\n",
       "<style scoped>\n",
       "    .dataframe tbody tr th:only-of-type {\n",
       "        vertical-align: middle;\n",
       "    }\n",
       "\n",
       "    .dataframe tbody tr th {\n",
       "        vertical-align: top;\n",
       "    }\n",
       "\n",
       "    .dataframe thead th {\n",
       "        text-align: right;\n",
       "    }\n",
       "</style>\n",
       "<table border=\"1\" class=\"dataframe\">\n",
       "  <thead>\n",
       "    <tr style=\"text-align: right;\">\n",
       "      <th></th>\n",
       "      <th>person</th>\n",
       "      <th>event</th>\n",
       "      <th>time</th>\n",
       "      <th>offer_id</th>\n",
       "    </tr>\n",
       "  </thead>\n",
       "  <tbody>\n",
       "    <tr>\n",
       "      <th>0</th>\n",
       "      <td>78afa995795e4d85b5d9ceeca43f5fef</td>\n",
       "      <td>offer received</td>\n",
       "      <td>0</td>\n",
       "      <td>9b98b8c7a33c4b65b9aebfe6a799e6d9</td>\n",
       "    </tr>\n",
       "    <tr>\n",
       "      <th>1</th>\n",
       "      <td>a03223e636434f42ac4c3df47e8bac43</td>\n",
       "      <td>offer received</td>\n",
       "      <td>0</td>\n",
       "      <td>0b1e1539f2cc45b7b9fa7c272da2e1d7</td>\n",
       "    </tr>\n",
       "    <tr>\n",
       "      <th>2</th>\n",
       "      <td>e2127556f4f64592b11af22de27a7932</td>\n",
       "      <td>offer received</td>\n",
       "      <td>0</td>\n",
       "      <td>2906b810c7d4411798c6938adc9daaa5</td>\n",
       "    </tr>\n",
       "    <tr>\n",
       "      <th>3</th>\n",
       "      <td>8ec6ce2a7e7949b1bf142def7d0e0586</td>\n",
       "      <td>offer received</td>\n",
       "      <td>0</td>\n",
       "      <td>fafdcd668e3743c1bb461111dcafc2a4</td>\n",
       "    </tr>\n",
       "    <tr>\n",
       "      <th>4</th>\n",
       "      <td>68617ca6246f4fbc85e91a2a49552598</td>\n",
       "      <td>offer received</td>\n",
       "      <td>0</td>\n",
       "      <td>4d5c57ea9a6940dd891ad53e9dbe8da0</td>\n",
       "    </tr>\n",
       "    <tr>\n",
       "      <th>...</th>\n",
       "      <td>...</td>\n",
       "      <td>...</td>\n",
       "      <td>...</td>\n",
       "      <td>...</td>\n",
       "    </tr>\n",
       "    <tr>\n",
       "      <th>306497</th>\n",
       "      <td>a6f84f4e976f44508c358cc9aba6d2b3</td>\n",
       "      <td>offer completed</td>\n",
       "      <td>714</td>\n",
       "      <td>2298d6c36e964ae4a3e7e9706d1fb8c2</td>\n",
       "    </tr>\n",
       "    <tr>\n",
       "      <th>306506</th>\n",
       "      <td>b895c57e8cd047a8872ce02aa54759d6</td>\n",
       "      <td>offer completed</td>\n",
       "      <td>714</td>\n",
       "      <td>fafdcd668e3743c1bb461111dcafc2a4</td>\n",
       "    </tr>\n",
       "    <tr>\n",
       "      <th>306507</th>\n",
       "      <td>8dda575c2a1d44b9ac8e8b07b93d1f8e</td>\n",
       "      <td>offer viewed</td>\n",
       "      <td>714</td>\n",
       "      <td>0b1e1539f2cc45b7b9fa7c272da2e1d7</td>\n",
       "    </tr>\n",
       "    <tr>\n",
       "      <th>306509</th>\n",
       "      <td>8431c16f8e1d440880db371a68f82dd0</td>\n",
       "      <td>offer completed</td>\n",
       "      <td>714</td>\n",
       "      <td>fafdcd668e3743c1bb461111dcafc2a4</td>\n",
       "    </tr>\n",
       "    <tr>\n",
       "      <th>306527</th>\n",
       "      <td>24f56b5e1849462093931b164eb803b5</td>\n",
       "      <td>offer completed</td>\n",
       "      <td>714</td>\n",
       "      <td>fafdcd668e3743c1bb461111dcafc2a4</td>\n",
       "    </tr>\n",
       "  </tbody>\n",
       "</table>\n",
       "<p>167581 rows × 4 columns</p>\n",
       "</div>"
      ],
      "text/plain": [
       "                                  person            event  time  \\\n",
       "0       78afa995795e4d85b5d9ceeca43f5fef   offer received     0   \n",
       "1       a03223e636434f42ac4c3df47e8bac43   offer received     0   \n",
       "2       e2127556f4f64592b11af22de27a7932   offer received     0   \n",
       "3       8ec6ce2a7e7949b1bf142def7d0e0586   offer received     0   \n",
       "4       68617ca6246f4fbc85e91a2a49552598   offer received     0   \n",
       "...                                  ...              ...   ...   \n",
       "306497  a6f84f4e976f44508c358cc9aba6d2b3  offer completed   714   \n",
       "306506  b895c57e8cd047a8872ce02aa54759d6  offer completed   714   \n",
       "306507  8dda575c2a1d44b9ac8e8b07b93d1f8e     offer viewed   714   \n",
       "306509  8431c16f8e1d440880db371a68f82dd0  offer completed   714   \n",
       "306527  24f56b5e1849462093931b164eb803b5  offer completed   714   \n",
       "\n",
       "                                offer_id  \n",
       "0       9b98b8c7a33c4b65b9aebfe6a799e6d9  \n",
       "1       0b1e1539f2cc45b7b9fa7c272da2e1d7  \n",
       "2       2906b810c7d4411798c6938adc9daaa5  \n",
       "3       fafdcd668e3743c1bb461111dcafc2a4  \n",
       "4       4d5c57ea9a6940dd891ad53e9dbe8da0  \n",
       "...                                  ...  \n",
       "306497  2298d6c36e964ae4a3e7e9706d1fb8c2  \n",
       "306506  fafdcd668e3743c1bb461111dcafc2a4  \n",
       "306507  0b1e1539f2cc45b7b9fa7c272da2e1d7  \n",
       "306509  fafdcd668e3743c1bb461111dcafc2a4  \n",
       "306527  fafdcd668e3743c1bb461111dcafc2a4  \n",
       "\n",
       "[167581 rows x 4 columns]"
      ]
     },
     "execution_count": 36,
     "metadata": {},
     "output_type": "execute_result"
    }
   ],
   "source": [
    "clean_transcript"
   ]
  },
  {
   "cell_type": "code",
   "execution_count": 37,
   "metadata": {},
   "outputs": [],
   "source": [
    "def create_user_item_matrix(clean_transcript, filename):\n",
    "    '''\n",
    "    Return the user item matrix indicating the number of times a user completed an offer.\n",
    "\n",
    "    Parameters:\n",
    "    clean_transcript (DataFrame): Cleaned transcript dataframe.\n",
    "    filename (string): The filename under which the user-item matrix will be saved.\n",
    "\n",
    "    Returns:\n",
    "    user_item_matrix (DataFrame): A user-item matrix where the row index represents users,\n",
    "                                  the columns represent offers,\n",
    "                                  and the values represent the number of times a user completed an offer.\n",
    "                                  NaN values mean no offer was given to the user.\n",
    "\n",
    "    The resulting matrix will be saved as a pickle file.\n",
    "    '''\n",
    "\n",
    "    # Create an empty user-item matrix with users as rows, offer as columns, and NaN initial values\n",
    "    user_item_matrix = clean_transcript.groupby(['person', 'offer_id'])['event'].count().unstack().map(lambda x: np.nan)\n",
    "\n",
    "    # Delete 'informational' offer types as they don't require completion\n",
    "    user_item_matrix.drop(list(portfolio[portfolio['offer_type']=='informational']['id']), axis=1, inplace=True)\n",
    " \n",
    "    # Iterate through each offer\n",
    "    for offer_id in user_item_matrix.columns: \n",
    "        print(\"Processing: \", offer_id)\n",
    "        num = 0 # Counter for progress updates\n",
    "\n",
    "        # Iterate through each user\n",
    "        for person in user_item_matrix.index: \n",
    "            num += 1\n",
    "\n",
    "            # Update progress every 1000 users\n",
    "            if num % 1000 == 0:\n",
    "                print(\"Finished processing \", round(num/user_item_matrix.shape[0]*100), '% of users')\n",
    "            \n",
    "            # Get list of events involving current user and offer\n",
    "            events = list(clean_transcript[(clean_transcript['offer_id']==offer_id) & (clean_transcript['person']==person)]['event']) \n",
    "            \n",
    "            # Only process this user-offer pair if there are at least 3 events\n",
    "            if len(events) >= 3:\n",
    "                # Initially set the user-offer count to 0\n",
    "                user_item_matrix.loc[person, offer_id] = 0 \n",
    "  \n",
    "                # Iterate over the events\n",
    "                for i in range(len(events)-2):\n",
    "                    # If a 'received' -> 'viewed' -> 'completed' sequence is detected, increment the user-offer count\n",
    "                    if (events[i] == 'offer received') & (events[i+1] == 'offer viewed') & (events[i+2] == 'offer completed'):\n",
    "                        user_item_matrix.loc[person, offer_id] += 1\n",
    "            # Set the user-offer count to 0 if there are events but less than 3\n",
    "            elif len(events) > 0:\n",
    "                user_item_matrix.loc[person, offer_id] = 0\n",
    "\n",
    "    # Write the completed user item matrix to a pickle file\n",
    "    with open(filename, 'wb') as f:\n",
    "        pickle.dump(user_item_matrix, f)\n",
    "        \n",
    "    return user_item_matrix"
   ]
  },
  {
   "cell_type": "code",
   "execution_count": 38,
   "metadata": {},
   "outputs": [
    {
     "data": {
      "text/plain": [
       "(117306, 50275)"
      ]
     },
     "execution_count": 38,
     "metadata": {},
     "output_type": "execute_result"
    }
   ],
   "source": [
    "# Make a train test split of the user item matrix 70:30\n",
    "train_size = int(clean_transcript.shape[0]*0.7)\n",
    "test_size = clean_transcript.shape[0] - train_size\n",
    "train_size, test_size"
   ]
  },
  {
   "cell_type": "code",
   "execution_count": 39,
   "metadata": {},
   "outputs": [],
   "source": [
    "train_transcript = clean_transcript.iloc[:train_size, :]\n",
    "test_transcript = clean_transcript.iloc[train_size:, :]"
   ]
  },
  {
   "cell_type": "code",
   "execution_count": 40,
   "metadata": {},
   "outputs": [
    {
     "data": {
      "text/html": [
       "<div>\n",
       "<style scoped>\n",
       "    .dataframe tbody tr th:only-of-type {\n",
       "        vertical-align: middle;\n",
       "    }\n",
       "\n",
       "    .dataframe tbody tr th {\n",
       "        vertical-align: top;\n",
       "    }\n",
       "\n",
       "    .dataframe thead th {\n",
       "        text-align: right;\n",
       "    }\n",
       "</style>\n",
       "<table border=\"1\" class=\"dataframe\">\n",
       "  <thead>\n",
       "    <tr style=\"text-align: right;\">\n",
       "      <th></th>\n",
       "      <th>person</th>\n",
       "      <th>event</th>\n",
       "      <th>time</th>\n",
       "      <th>offer_id</th>\n",
       "    </tr>\n",
       "  </thead>\n",
       "  <tbody>\n",
       "    <tr>\n",
       "      <th>0</th>\n",
       "      <td>78afa995795e4d85b5d9ceeca43f5fef</td>\n",
       "      <td>offer received</td>\n",
       "      <td>0</td>\n",
       "      <td>9b98b8c7a33c4b65b9aebfe6a799e6d9</td>\n",
       "    </tr>\n",
       "    <tr>\n",
       "      <th>1</th>\n",
       "      <td>a03223e636434f42ac4c3df47e8bac43</td>\n",
       "      <td>offer received</td>\n",
       "      <td>0</td>\n",
       "      <td>0b1e1539f2cc45b7b9fa7c272da2e1d7</td>\n",
       "    </tr>\n",
       "    <tr>\n",
       "      <th>2</th>\n",
       "      <td>e2127556f4f64592b11af22de27a7932</td>\n",
       "      <td>offer received</td>\n",
       "      <td>0</td>\n",
       "      <td>2906b810c7d4411798c6938adc9daaa5</td>\n",
       "    </tr>\n",
       "    <tr>\n",
       "      <th>3</th>\n",
       "      <td>8ec6ce2a7e7949b1bf142def7d0e0586</td>\n",
       "      <td>offer received</td>\n",
       "      <td>0</td>\n",
       "      <td>fafdcd668e3743c1bb461111dcafc2a4</td>\n",
       "    </tr>\n",
       "    <tr>\n",
       "      <th>4</th>\n",
       "      <td>68617ca6246f4fbc85e91a2a49552598</td>\n",
       "      <td>offer received</td>\n",
       "      <td>0</td>\n",
       "      <td>4d5c57ea9a6940dd891ad53e9dbe8da0</td>\n",
       "    </tr>\n",
       "  </tbody>\n",
       "</table>\n",
       "</div>"
      ],
      "text/plain": [
       "                             person           event  time  \\\n",
       "0  78afa995795e4d85b5d9ceeca43f5fef  offer received     0   \n",
       "1  a03223e636434f42ac4c3df47e8bac43  offer received     0   \n",
       "2  e2127556f4f64592b11af22de27a7932  offer received     0   \n",
       "3  8ec6ce2a7e7949b1bf142def7d0e0586  offer received     0   \n",
       "4  68617ca6246f4fbc85e91a2a49552598  offer received     0   \n",
       "\n",
       "                           offer_id  \n",
       "0  9b98b8c7a33c4b65b9aebfe6a799e6d9  \n",
       "1  0b1e1539f2cc45b7b9fa7c272da2e1d7  \n",
       "2  2906b810c7d4411798c6938adc9daaa5  \n",
       "3  fafdcd668e3743c1bb461111dcafc2a4  \n",
       "4  4d5c57ea9a6940dd891ad53e9dbe8da0  "
      ]
     },
     "execution_count": 40,
     "metadata": {},
     "output_type": "execute_result"
    }
   ],
   "source": [
    "train_transcript.head()"
   ]
  },
  {
   "cell_type": "code",
   "execution_count": 41,
   "metadata": {},
   "outputs": [
    {
     "data": {
      "text/html": [
       "<div>\n",
       "<style scoped>\n",
       "    .dataframe tbody tr th:only-of-type {\n",
       "        vertical-align: middle;\n",
       "    }\n",
       "\n",
       "    .dataframe tbody tr th {\n",
       "        vertical-align: top;\n",
       "    }\n",
       "\n",
       "    .dataframe thead th {\n",
       "        text-align: right;\n",
       "    }\n",
       "</style>\n",
       "<table border=\"1\" class=\"dataframe\">\n",
       "  <thead>\n",
       "    <tr style=\"text-align: right;\">\n",
       "      <th></th>\n",
       "      <th>person</th>\n",
       "      <th>event</th>\n",
       "      <th>time</th>\n",
       "      <th>offer_id</th>\n",
       "    </tr>\n",
       "  </thead>\n",
       "  <tbody>\n",
       "    <tr>\n",
       "      <th>209139</th>\n",
       "      <td>ee17ec3543154db188a6afa0d74b7e9f</td>\n",
       "      <td>offer received</td>\n",
       "      <td>504</td>\n",
       "      <td>9b98b8c7a33c4b65b9aebfe6a799e6d9</td>\n",
       "    </tr>\n",
       "    <tr>\n",
       "      <th>209140</th>\n",
       "      <td>b148b540df8c4aa5a8a0b79be4fdecbe</td>\n",
       "      <td>offer received</td>\n",
       "      <td>504</td>\n",
       "      <td>5a8bc65990b245e5a138643cd4eb9837</td>\n",
       "    </tr>\n",
       "    <tr>\n",
       "      <th>209141</th>\n",
       "      <td>cbd9b4ad54a8422c82004fd4e8d8d746</td>\n",
       "      <td>offer received</td>\n",
       "      <td>504</td>\n",
       "      <td>0b1e1539f2cc45b7b9fa7c272da2e1d7</td>\n",
       "    </tr>\n",
       "    <tr>\n",
       "      <th>209142</th>\n",
       "      <td>54ac605ec4354bbfa726012d5236f4a1</td>\n",
       "      <td>offer received</td>\n",
       "      <td>504</td>\n",
       "      <td>9b98b8c7a33c4b65b9aebfe6a799e6d9</td>\n",
       "    </tr>\n",
       "    <tr>\n",
       "      <th>209143</th>\n",
       "      <td>0a68034a1858477e8053ca18a05c213c</td>\n",
       "      <td>offer received</td>\n",
       "      <td>504</td>\n",
       "      <td>4d5c57ea9a6940dd891ad53e9dbe8da0</td>\n",
       "    </tr>\n",
       "  </tbody>\n",
       "</table>\n",
       "</div>"
      ],
      "text/plain": [
       "                                  person           event  time  \\\n",
       "209139  ee17ec3543154db188a6afa0d74b7e9f  offer received   504   \n",
       "209140  b148b540df8c4aa5a8a0b79be4fdecbe  offer received   504   \n",
       "209141  cbd9b4ad54a8422c82004fd4e8d8d746  offer received   504   \n",
       "209142  54ac605ec4354bbfa726012d5236f4a1  offer received   504   \n",
       "209143  0a68034a1858477e8053ca18a05c213c  offer received   504   \n",
       "\n",
       "                                offer_id  \n",
       "209139  9b98b8c7a33c4b65b9aebfe6a799e6d9  \n",
       "209140  5a8bc65990b245e5a138643cd4eb9837  \n",
       "209141  0b1e1539f2cc45b7b9fa7c272da2e1d7  \n",
       "209142  9b98b8c7a33c4b65b9aebfe6a799e6d9  \n",
       "209143  4d5c57ea9a6940dd891ad53e9dbe8da0  "
      ]
     },
     "execution_count": 41,
     "metadata": {},
     "output_type": "execute_result"
    }
   ],
   "source": [
    "test_transcript.head()"
   ]
  },
  {
   "cell_type": "code",
   "execution_count": 42,
   "metadata": {},
   "outputs": [],
   "source": [
    "# Took 50 minutes to run\n",
    "# complete_user_item_matrix = create_user_item_matrix(clean_transcript, 'data/complete_user_item_matrix.pkl')"
   ]
  },
  {
   "cell_type": "code",
   "execution_count": 43,
   "metadata": {},
   "outputs": [],
   "source": [
    "# Get user item matrix from pickle file instead of running the function again\n",
    "with open('data/complete_user_item_matrix.pkl', 'rb') as f:\n",
    "    complete_user_item_matrix = pickle.load(f)"
   ]
  },
  {
   "cell_type": "code",
   "execution_count": 44,
   "metadata": {},
   "outputs": [
    {
     "data": {
      "text/plain": [
       "(16994, 8)"
      ]
     },
     "execution_count": 44,
     "metadata": {},
     "output_type": "execute_result"
    }
   ],
   "source": [
    "complete_user_item_matrix.shape"
   ]
  },
  {
   "cell_type": "code",
   "execution_count": 45,
   "metadata": {},
   "outputs": [],
   "source": [
    "# Took 35 minutes to run\n",
    "# train_user_item_matrix = create_user_item_matrix(train_transcript, 'data/train_user_item_matrix.pkl')"
   ]
  },
  {
   "cell_type": "code",
   "execution_count": 46,
   "metadata": {},
   "outputs": [],
   "source": [
    "# Get user item matrix from pickle file instead of running the function again\n",
    "with open('data/train_user_item_matrix.pkl', 'rb') as f:\n",
    "    train_user_item_matrix = pickle.load(f)"
   ]
  },
  {
   "cell_type": "code",
   "execution_count": 47,
   "metadata": {},
   "outputs": [
    {
     "data": {
      "text/plain": [
       "(16955, 8)"
      ]
     },
     "execution_count": 47,
     "metadata": {},
     "output_type": "execute_result"
    }
   ],
   "source": [
    "train_user_item_matrix.shape"
   ]
  },
  {
   "cell_type": "code",
   "execution_count": 48,
   "metadata": {},
   "outputs": [],
   "source": [
    "# Took 15 minutes to run\n",
    "# test_user_item_matrix = create_user_item_matrix(test_transcript, 'data/test_user_item_matrix.pkl')"
   ]
  },
  {
   "cell_type": "code",
   "execution_count": 49,
   "metadata": {},
   "outputs": [],
   "source": [
    "# Get user item matrix from pickle file instead of running the function again\n",
    "with open('data/test_user_item_matrix.pkl', 'rb') as f:\n",
    "    test_user_item_matrix = pickle.load(f)"
   ]
  },
  {
   "cell_type": "code",
   "execution_count": 50,
   "metadata": {},
   "outputs": [
    {
     "data": {
      "text/plain": [
       "(15828, 8)"
      ]
     },
     "execution_count": 50,
     "metadata": {},
     "output_type": "execute_result"
    }
   ],
   "source": [
    "test_user_item_matrix.shape"
   ]
  },
  {
   "cell_type": "markdown",
   "metadata": {},
   "source": [
    "## 5. Apply FunkSVD"
   ]
  },
  {
   "cell_type": "code",
   "execution_count": 51,
   "metadata": {},
   "outputs": [],
   "source": [
    "def FunkSVD(complete_mat, latent_features=12, learning_rate=0.005, iters=100):\n",
    "    '''\n",
    "    This function performs matrix factorization using a basic form of FunkSVD with no regularization\n",
    "    \n",
    "    INPUT:\n",
    "    complete_mat - (numpy array) a matrix with users as rows, offers as columns, and offer completed as values\n",
    "    latent_features - (int) the number of latent features used\n",
    "    learning_rate - (float) the learning rate \n",
    "    iters - (int) the number of iterations\n",
    "    \n",
    "    OUTPUT:\n",
    "    user_mat - (numpy array) a user by latent feature matrix\n",
    "    offer_mat - (numpy array) a latent feature by offer matrix\n",
    "    '''\n",
    "    \n",
    "    # Set up required values to be used through the rest of the function\n",
    "    n_users = complete_mat.shape[0]\n",
    "    n_offers = complete_mat.shape[1]\n",
    "    num_complete = np.count_nonzero(~np.isnan(complete_mat))\n",
    "    \n",
    "    # Initialize the user and movie matrices with random values\n",
    "    user_mat = np.random.rand(n_users, latent_features)\n",
    "    offer_mat = np.random.rand(latent_features, n_offers)\n",
    "    \n",
    "    # Initialize sse at 0 for first iteration\n",
    "    sse_accum = 0\n",
    "    \n",
    "    # Keep track of iteration and MSE\n",
    "    print(\"Optimizaiton Statistics\")\n",
    "    print(\"Iterations | Mean Squared Error \")\n",
    "    \n",
    "    # For each iteration\n",
    "    for iteration in range(iters):\n",
    "\n",
    "        # Update our sse\n",
    "        old_sse = sse_accum\n",
    "        sse_accum = 0\n",
    "        \n",
    "        # For each user-offer pair\n",
    "        for i in range(n_users):\n",
    "            for j in range(n_offers):\n",
    "                \n",
    "                # If the rating exists\n",
    "                if complete_mat[i, j] >= 0:\n",
    "                    \n",
    "                    # Compute the error as the actual minus the dot product of the user and offer latent features\n",
    "                    diff = complete_mat[i, j] - np.dot(user_mat[i, :], offer_mat[:, j])\n",
    "                    \n",
    "                    # Keep track of the sum of squared errors for the matrix\n",
    "                    sse_accum += diff**2\n",
    "                    \n",
    "                    # Update the values in each matrix in the direction of the gradient\n",
    "                    for k in range(latent_features):\n",
    "                        user_mat[i, k] += learning_rate * (2*diff*offer_mat[k, j])\n",
    "                        offer_mat[k, j] += learning_rate * (2*diff*user_mat[i, k])\n",
    "\n",
    "        # Print results\n",
    "        print(\"%d \\t\\t %f\" % (iteration+1, sse_accum / num_complete))\n",
    "        \n",
    "    return user_mat, offer_mat"
   ]
  },
  {
   "cell_type": "code",
   "execution_count": 52,
   "metadata": {},
   "outputs": [
    {
     "data": {
      "text/plain": [
       "array([[nan, nan, nan, ..., nan,  0.,  0.],\n",
       "       [nan, nan, nan, ..., nan,  0., nan],\n",
       "       [ 0.,  1., nan, ..., nan, nan, nan],\n",
       "       ...,\n",
       "       [nan, nan, nan, ..., nan, nan,  0.],\n",
       "       [nan, nan, nan, ..., nan,  1., nan],\n",
       "       [ 1., nan,  2., ..., nan, nan,  1.]])"
      ]
     },
     "execution_count": 52,
     "metadata": {},
     "output_type": "execute_result"
    }
   ],
   "source": [
    "train_data_np = np.array(train_user_item_matrix)\n",
    "train_data_np"
   ]
  },
  {
   "cell_type": "code",
   "execution_count": 53,
   "metadata": {},
   "outputs": [
    {
     "name": "stdout",
     "output_type": "stream",
     "text": [
      "Optimizaiton Statistics\n",
      "Iterations | Mean Squared Error \n"
     ]
    },
    {
     "name": "stdout",
     "output_type": "stream",
     "text": [
      "1 \t\t 0.300628\n",
      "2 \t\t 0.266836\n",
      "3 \t\t 0.266427\n",
      "4 \t\t 0.266010\n",
      "5 \t\t 0.265589\n",
      "6 \t\t 0.265166\n",
      "7 \t\t 0.264738\n",
      "8 \t\t 0.264307\n",
      "9 \t\t 0.263871\n",
      "10 \t\t 0.263431\n",
      "11 \t\t 0.262987\n",
      "12 \t\t 0.262537\n",
      "13 \t\t 0.262081\n",
      "14 \t\t 0.261620\n",
      "15 \t\t 0.261152\n",
      "16 \t\t 0.260677\n",
      "17 \t\t 0.260195\n",
      "18 \t\t 0.259706\n",
      "19 \t\t 0.259208\n",
      "20 \t\t 0.258701\n",
      "21 \t\t 0.258185\n",
      "22 \t\t 0.257658\n",
      "23 \t\t 0.257121\n",
      "24 \t\t 0.256572\n",
      "25 \t\t 0.256011\n",
      "26 \t\t 0.255436\n",
      "27 \t\t 0.254847\n",
      "28 \t\t 0.254243\n",
      "29 \t\t 0.253623\n",
      "30 \t\t 0.252986\n",
      "31 \t\t 0.252330\n",
      "32 \t\t 0.251655\n",
      "33 \t\t 0.250959\n",
      "34 \t\t 0.250241\n",
      "35 \t\t 0.249500\n",
      "36 \t\t 0.248733\n",
      "37 \t\t 0.247940\n",
      "38 \t\t 0.247120\n",
      "39 \t\t 0.246269\n",
      "40 \t\t 0.245387\n",
      "41 \t\t 0.244472\n",
      "42 \t\t 0.243522\n",
      "43 \t\t 0.242535\n",
      "44 \t\t 0.241509\n",
      "45 \t\t 0.240442\n",
      "46 \t\t 0.239332\n",
      "47 \t\t 0.238177\n",
      "48 \t\t 0.236976\n",
      "49 \t\t 0.235725\n",
      "50 \t\t 0.234422\n",
      "51 \t\t 0.233067\n",
      "52 \t\t 0.231656\n",
      "53 \t\t 0.230187\n",
      "54 \t\t 0.228660\n",
      "55 \t\t 0.227071\n",
      "56 \t\t 0.225419\n",
      "57 \t\t 0.223703\n",
      "58 \t\t 0.221921\n",
      "59 \t\t 0.220072\n",
      "60 \t\t 0.218155\n",
      "61 \t\t 0.216169\n",
      "62 \t\t 0.214113\n",
      "63 \t\t 0.211987\n",
      "64 \t\t 0.209791\n",
      "65 \t\t 0.207525\n",
      "66 \t\t 0.205190\n",
      "67 \t\t 0.202786\n",
      "68 \t\t 0.200315\n",
      "69 \t\t 0.197778\n",
      "70 \t\t 0.195177\n",
      "71 \t\t 0.192515\n",
      "72 \t\t 0.189793\n",
      "73 \t\t 0.187015\n",
      "74 \t\t 0.184183\n",
      "75 \t\t 0.181302\n",
      "76 \t\t 0.178375\n",
      "77 \t\t 0.175405\n",
      "78 \t\t 0.172398\n",
      "79 \t\t 0.169356\n",
      "80 \t\t 0.166286\n",
      "81 \t\t 0.163191\n",
      "82 \t\t 0.160077\n",
      "83 \t\t 0.156948\n",
      "84 \t\t 0.153809\n",
      "85 \t\t 0.150664\n",
      "86 \t\t 0.147520\n",
      "87 \t\t 0.144380\n",
      "88 \t\t 0.141249\n",
      "89 \t\t 0.138131\n",
      "90 \t\t 0.135032\n",
      "91 \t\t 0.131955\n",
      "92 \t\t 0.128903\n",
      "93 \t\t 0.125882\n",
      "94 \t\t 0.122894\n",
      "95 \t\t 0.119943\n",
      "96 \t\t 0.117031\n",
      "97 \t\t 0.114161\n",
      "98 \t\t 0.111335\n",
      "99 \t\t 0.108557\n",
      "100 \t\t 0.105827\n"
     ]
    }
   ],
   "source": [
    "# Funk SVD with 12 latent features, learning rate of 0.005, and 100 iterations (Default Parameters)\n",
    "user_mat, offer_mat = FunkSVD(train_data_np)"
   ]
  },
  {
   "cell_type": "code",
   "execution_count": 54,
   "metadata": {},
   "outputs": [
    {
     "name": "stdout",
     "output_type": "stream",
     "text": [
      "Optimizaiton Statistics\n",
      "Iterations | Mean Squared Error \n",
      "1 \t\t 0.302745\n",
      "2 \t\t 0.266901\n",
      "3 \t\t 0.266483\n",
      "4 \t\t 0.266055\n",
      "5 \t\t 0.265622\n",
      "6 \t\t 0.265183\n",
      "7 \t\t 0.264740\n",
      "8 \t\t 0.264291\n",
      "9 \t\t 0.263836\n",
      "10 \t\t 0.263375\n",
      "11 \t\t 0.262907\n",
      "12 \t\t 0.262431\n",
      "13 \t\t 0.261947\n",
      "14 \t\t 0.261454\n",
      "15 \t\t 0.260953\n",
      "16 \t\t 0.260441\n",
      "17 \t\t 0.259918\n",
      "18 \t\t 0.259384\n",
      "19 \t\t 0.258838\n",
      "20 \t\t 0.258278\n",
      "21 \t\t 0.257704\n",
      "22 \t\t 0.257115\n",
      "23 \t\t 0.256509\n",
      "24 \t\t 0.255886\n",
      "25 \t\t 0.255244\n",
      "26 \t\t 0.254582\n",
      "27 \t\t 0.253899\n",
      "28 \t\t 0.253192\n",
      "29 \t\t 0.252462\n",
      "30 \t\t 0.251705\n",
      "31 \t\t 0.250921\n",
      "32 \t\t 0.250107\n",
      "33 \t\t 0.249261\n",
      "34 \t\t 0.248383\n",
      "35 \t\t 0.247469\n",
      "36 \t\t 0.246518\n",
      "37 \t\t 0.245528\n",
      "38 \t\t 0.244496\n",
      "39 \t\t 0.243420\n",
      "40 \t\t 0.242297\n",
      "41 \t\t 0.241127\n",
      "42 \t\t 0.239905\n",
      "43 \t\t 0.238631\n",
      "44 \t\t 0.237301\n",
      "45 \t\t 0.235914\n",
      "46 \t\t 0.234466\n",
      "47 \t\t 0.232957\n",
      "48 \t\t 0.231384\n",
      "49 \t\t 0.229745\n",
      "50 \t\t 0.228038\n",
      "51 \t\t 0.226263\n",
      "52 \t\t 0.224417\n",
      "53 \t\t 0.222500\n",
      "54 \t\t 0.220511\n",
      "55 \t\t 0.218449\n",
      "56 \t\t 0.216315\n",
      "57 \t\t 0.214108\n",
      "58 \t\t 0.211830\n",
      "59 \t\t 0.209481\n",
      "60 \t\t 0.207063\n",
      "61 \t\t 0.204577\n",
      "62 \t\t 0.202026\n",
      "63 \t\t 0.199413\n",
      "64 \t\t 0.196740\n",
      "65 \t\t 0.194011\n",
      "66 \t\t 0.191230\n",
      "67 \t\t 0.188401\n",
      "68 \t\t 0.185528\n",
      "69 \t\t 0.182616\n",
      "70 \t\t 0.179670\n",
      "71 \t\t 0.176694\n",
      "72 \t\t 0.173695\n",
      "73 \t\t 0.170677\n",
      "74 \t\t 0.167645\n",
      "75 \t\t 0.164605\n",
      "76 \t\t 0.161562\n",
      "77 \t\t 0.158521\n",
      "78 \t\t 0.155486\n",
      "79 \t\t 0.152463\n",
      "80 \t\t 0.149456\n",
      "81 \t\t 0.146470\n",
      "82 \t\t 0.143507\n",
      "83 \t\t 0.140573\n",
      "84 \t\t 0.137670\n",
      "85 \t\t 0.134802\n",
      "86 \t\t 0.131970\n",
      "87 \t\t 0.129179\n",
      "88 \t\t 0.126429\n",
      "89 \t\t 0.123724\n",
      "90 \t\t 0.121063\n",
      "91 \t\t 0.118450\n",
      "92 \t\t 0.115884\n",
      "93 \t\t 0.113367\n",
      "94 \t\t 0.110900\n",
      "95 \t\t 0.108482\n",
      "96 \t\t 0.106113\n",
      "97 \t\t 0.103795\n",
      "98 \t\t 0.101526\n",
      "99 \t\t 0.099307\n",
      "100 \t\t 0.097136\n",
      "101 \t\t 0.095014\n",
      "102 \t\t 0.092940\n",
      "103 \t\t 0.090913\n",
      "104 \t\t 0.088932\n",
      "105 \t\t 0.086996\n",
      "106 \t\t 0.085105\n",
      "107 \t\t 0.083258\n",
      "108 \t\t 0.081454\n",
      "109 \t\t 0.079692\n",
      "110 \t\t 0.077970\n",
      "111 \t\t 0.076288\n",
      "112 \t\t 0.074645\n",
      "113 \t\t 0.073040\n",
      "114 \t\t 0.071472\n",
      "115 \t\t 0.069940\n",
      "116 \t\t 0.068443\n",
      "117 \t\t 0.066980\n",
      "118 \t\t 0.065551\n",
      "119 \t\t 0.064154\n",
      "120 \t\t 0.062789\n",
      "121 \t\t 0.061454\n",
      "122 \t\t 0.060150\n",
      "123 \t\t 0.058875\n",
      "124 \t\t 0.057628\n",
      "125 \t\t 0.056410\n",
      "126 \t\t 0.055218\n",
      "127 \t\t 0.054053\n",
      "128 \t\t 0.052914\n",
      "129 \t\t 0.051800\n",
      "130 \t\t 0.050711\n",
      "131 \t\t 0.049646\n",
      "132 \t\t 0.048604\n",
      "133 \t\t 0.047585\n",
      "134 \t\t 0.046589\n",
      "135 \t\t 0.045614\n",
      "136 \t\t 0.044661\n",
      "137 \t\t 0.043730\n",
      "138 \t\t 0.042818\n",
      "139 \t\t 0.041927\n",
      "140 \t\t 0.041055\n",
      "141 \t\t 0.040203\n",
      "142 \t\t 0.039369\n",
      "143 \t\t 0.038553\n",
      "144 \t\t 0.037756\n",
      "145 \t\t 0.036976\n",
      "146 \t\t 0.036214\n",
      "147 \t\t 0.035468\n",
      "148 \t\t 0.034739\n",
      "149 \t\t 0.034026\n",
      "150 \t\t 0.033329\n",
      "151 \t\t 0.032647\n",
      "152 \t\t 0.031980\n",
      "153 \t\t 0.031328\n",
      "154 \t\t 0.030691\n",
      "155 \t\t 0.030067\n",
      "156 \t\t 0.029458\n",
      "157 \t\t 0.028861\n",
      "158 \t\t 0.028278\n",
      "159 \t\t 0.027708\n",
      "160 \t\t 0.027151\n",
      "161 \t\t 0.026606\n",
      "162 \t\t 0.026072\n",
      "163 \t\t 0.025551\n",
      "164 \t\t 0.025041\n",
      "165 \t\t 0.024542\n",
      "166 \t\t 0.024054\n",
      "167 \t\t 0.023576\n",
      "168 \t\t 0.023110\n",
      "169 \t\t 0.022653\n",
      "170 \t\t 0.022206\n",
      "171 \t\t 0.021769\n",
      "172 \t\t 0.021341\n",
      "173 \t\t 0.020922\n",
      "174 \t\t 0.020512\n",
      "175 \t\t 0.020112\n",
      "176 \t\t 0.019719\n",
      "177 \t\t 0.019335\n",
      "178 \t\t 0.018959\n",
      "179 \t\t 0.018591\n",
      "180 \t\t 0.018231\n",
      "181 \t\t 0.017878\n",
      "182 \t\t 0.017533\n",
      "183 \t\t 0.017195\n",
      "184 \t\t 0.016864\n",
      "185 \t\t 0.016539\n",
      "186 \t\t 0.016222\n",
      "187 \t\t 0.015910\n",
      "188 \t\t 0.015606\n",
      "189 \t\t 0.015307\n",
      "190 \t\t 0.015014\n",
      "191 \t\t 0.014728\n",
      "192 \t\t 0.014447\n",
      "193 \t\t 0.014172\n",
      "194 \t\t 0.013902\n",
      "195 \t\t 0.013638\n",
      "196 \t\t 0.013378\n",
      "197 \t\t 0.013124\n",
      "198 \t\t 0.012876\n",
      "199 \t\t 0.012632\n",
      "200 \t\t 0.012392\n"
     ]
    }
   ],
   "source": [
    "# Funk SVD with 12 latent features, learning rate of 0.005, and 200 iterations (Higher iterations)\n",
    "user_mat_200it, offer_mat_200it = FunkSVD(train_data_np, iters=200)"
   ]
  },
  {
   "cell_type": "code",
   "execution_count": 55,
   "metadata": {},
   "outputs": [
    {
     "name": "stdout",
     "output_type": "stream",
     "text": [
      "Optimizaiton Statistics\n",
      "Iterations | Mean Squared Error \n",
      "1 \t\t 0.331577\n",
      "2 \t\t 0.268975\n",
      "3 \t\t 0.268669\n",
      "4 \t\t 0.268342\n",
      "5 \t\t 0.268008\n",
      "6 \t\t 0.267667\n",
      "7 \t\t 0.267318\n",
      "8 \t\t 0.266960\n",
      "9 \t\t 0.266593\n",
      "10 \t\t 0.266215\n",
      "11 \t\t 0.265827\n",
      "12 \t\t 0.265428\n",
      "13 \t\t 0.265016\n",
      "14 \t\t 0.264591\n",
      "15 \t\t 0.264152\n",
      "16 \t\t 0.263697\n",
      "17 \t\t 0.263226\n",
      "18 \t\t 0.262736\n",
      "19 \t\t 0.262228\n",
      "20 \t\t 0.261700\n",
      "21 \t\t 0.261149\n",
      "22 \t\t 0.260575\n",
      "23 \t\t 0.259975\n",
      "24 \t\t 0.259349\n",
      "25 \t\t 0.258693\n",
      "26 \t\t 0.258007\n",
      "27 \t\t 0.257288\n",
      "28 \t\t 0.256533\n",
      "29 \t\t 0.255741\n",
      "30 \t\t 0.254908\n",
      "31 \t\t 0.254033\n",
      "32 \t\t 0.253113\n",
      "33 \t\t 0.252145\n",
      "34 \t\t 0.251126\n",
      "35 \t\t 0.250052\n",
      "36 \t\t 0.248922\n",
      "37 \t\t 0.247732\n",
      "38 \t\t 0.246479\n",
      "39 \t\t 0.245160\n",
      "40 \t\t 0.243772\n",
      "41 \t\t 0.242311\n",
      "42 \t\t 0.240774\n",
      "43 \t\t 0.239159\n",
      "44 \t\t 0.237463\n",
      "45 \t\t 0.235684\n",
      "46 \t\t 0.233818\n",
      "47 \t\t 0.231863\n",
      "48 \t\t 0.229819\n",
      "49 \t\t 0.227683\n",
      "50 \t\t 0.225454\n",
      "51 \t\t 0.223132\n",
      "52 \t\t 0.220716\n",
      "53 \t\t 0.218207\n",
      "54 \t\t 0.215606\n",
      "55 \t\t 0.212914\n",
      "56 \t\t 0.210134\n",
      "57 \t\t 0.207267\n",
      "58 \t\t 0.204318\n",
      "59 \t\t 0.201289\n",
      "60 \t\t 0.198187\n",
      "61 \t\t 0.195014\n",
      "62 \t\t 0.191778\n",
      "63 \t\t 0.188483\n",
      "64 \t\t 0.185136\n",
      "65 \t\t 0.181744\n",
      "66 \t\t 0.178312\n",
      "67 \t\t 0.174849\n",
      "68 \t\t 0.171362\n",
      "69 \t\t 0.167856\n",
      "70 \t\t 0.164339\n",
      "71 \t\t 0.160819\n",
      "72 \t\t 0.157301\n",
      "73 \t\t 0.153793\n",
      "74 \t\t 0.150300\n",
      "75 \t\t 0.146828\n",
      "76 \t\t 0.143382\n",
      "77 \t\t 0.139968\n",
      "78 \t\t 0.136590\n",
      "79 \t\t 0.133253\n",
      "80 \t\t 0.129959\n",
      "81 \t\t 0.126713\n",
      "82 \t\t 0.123518\n",
      "83 \t\t 0.120375\n",
      "84 \t\t 0.117288\n",
      "85 \t\t 0.114258\n",
      "86 \t\t 0.111286\n",
      "87 \t\t 0.108374\n",
      "88 \t\t 0.105522\n",
      "89 \t\t 0.102731\n",
      "90 \t\t 0.100003\n",
      "91 \t\t 0.097335\n",
      "92 \t\t 0.094730\n",
      "93 \t\t 0.092186\n",
      "94 \t\t 0.089703\n",
      "95 \t\t 0.087282\n",
      "96 \t\t 0.084920\n",
      "97 \t\t 0.082618\n",
      "98 \t\t 0.080374\n",
      "99 \t\t 0.078189\n",
      "100 \t\t 0.076060\n"
     ]
    }
   ],
   "source": [
    "# Funk SVD with 20 latent features, learning rate of 0.005, and 100 iterations (Higher latent features)\n",
    "user_mat_20lf, offer_mat_20lf = FunkSVD(train_data_np, latent_features=20)"
   ]
  },
  {
   "cell_type": "code",
   "execution_count": 56,
   "metadata": {},
   "outputs": [
    {
     "name": "stdout",
     "output_type": "stream",
     "text": [
      "Optimizaiton Statistics\n",
      "Iterations | Mean Squared Error \n",
      "1 \t\t 0.327184\n",
      "2 \t\t 0.268944\n",
      "3 \t\t 0.268643\n",
      "4 \t\t 0.268332\n",
      "5 \t\t 0.268015\n",
      "6 \t\t 0.267693\n",
      "7 \t\t 0.267364\n",
      "8 \t\t 0.267029\n",
      "9 \t\t 0.266686\n",
      "10 \t\t 0.266335\n",
      "11 \t\t 0.265975\n",
      "12 \t\t 0.265607\n",
      "13 \t\t 0.265229\n",
      "14 \t\t 0.264840\n",
      "15 \t\t 0.264440\n",
      "16 \t\t 0.264027\n",
      "17 \t\t 0.263602\n",
      "18 \t\t 0.263162\n",
      "19 \t\t 0.262707\n",
      "20 \t\t 0.262237\n",
      "21 \t\t 0.261748\n",
      "22 \t\t 0.261241\n",
      "23 \t\t 0.260714\n",
      "24 \t\t 0.260166\n",
      "25 \t\t 0.259594\n",
      "26 \t\t 0.258998\n",
      "27 \t\t 0.258376\n",
      "28 \t\t 0.257725\n",
      "29 \t\t 0.257044\n",
      "30 \t\t 0.256331\n",
      "31 \t\t 0.255584\n",
      "32 \t\t 0.254800\n",
      "33 \t\t 0.253977\n",
      "34 \t\t 0.253113\n",
      "35 \t\t 0.252205\n",
      "36 \t\t 0.251251\n",
      "37 \t\t 0.250247\n",
      "38 \t\t 0.249190\n",
      "39 \t\t 0.248079\n",
      "40 \t\t 0.246910\n",
      "41 \t\t 0.245680\n",
      "42 \t\t 0.244387\n",
      "43 \t\t 0.243026\n",
      "44 \t\t 0.241595\n",
      "45 \t\t 0.240092\n",
      "46 \t\t 0.238514\n",
      "47 \t\t 0.236857\n",
      "48 \t\t 0.235120\n",
      "49 \t\t 0.233299\n",
      "50 \t\t 0.231394\n",
      "51 \t\t 0.229402\n",
      "52 \t\t 0.227322\n",
      "53 \t\t 0.225153\n",
      "54 \t\t 0.222893\n",
      "55 \t\t 0.220543\n",
      "56 \t\t 0.218104\n",
      "57 \t\t 0.215574\n",
      "58 \t\t 0.212956\n",
      "59 \t\t 0.210252\n",
      "60 \t\t 0.207462\n",
      "61 \t\t 0.204591\n",
      "62 \t\t 0.201642\n",
      "63 \t\t 0.198617\n",
      "64 \t\t 0.195522\n",
      "65 \t\t 0.192360\n",
      "66 \t\t 0.189137\n",
      "67 \t\t 0.185859\n",
      "68 \t\t 0.182530\n",
      "69 \t\t 0.179158\n",
      "70 \t\t 0.175747\n",
      "71 \t\t 0.172305\n",
      "72 \t\t 0.168839\n",
      "73 \t\t 0.165354\n",
      "74 \t\t 0.161857\n",
      "75 \t\t 0.158354\n",
      "76 \t\t 0.154853\n",
      "77 \t\t 0.151359\n",
      "78 \t\t 0.147878\n",
      "79 \t\t 0.144417\n",
      "80 \t\t 0.140980\n",
      "81 \t\t 0.137573\n",
      "82 \t\t 0.134202\n",
      "83 \t\t 0.130869\n",
      "84 \t\t 0.127581\n",
      "85 \t\t 0.124339\n",
      "86 \t\t 0.121149\n",
      "87 \t\t 0.118013\n",
      "88 \t\t 0.114934\n",
      "89 \t\t 0.111914\n",
      "90 \t\t 0.108955\n",
      "91 \t\t 0.106058\n",
      "92 \t\t 0.103226\n",
      "93 \t\t 0.100458\n",
      "94 \t\t 0.097756\n",
      "95 \t\t 0.095120\n",
      "96 \t\t 0.092550\n",
      "97 \t\t 0.090045\n",
      "98 \t\t 0.087606\n",
      "99 \t\t 0.085232\n",
      "100 \t\t 0.082922\n",
      "101 \t\t 0.080675\n",
      "102 \t\t 0.078490\n",
      "103 \t\t 0.076367\n",
      "104 \t\t 0.074304\n",
      "105 \t\t 0.072299\n",
      "106 \t\t 0.070352\n",
      "107 \t\t 0.068461\n",
      "108 \t\t 0.066625\n",
      "109 \t\t 0.064842\n",
      "110 \t\t 0.063111\n",
      "111 \t\t 0.061430\n",
      "112 \t\t 0.059799\n",
      "113 \t\t 0.058215\n",
      "114 \t\t 0.056678\n",
      "115 \t\t 0.055185\n",
      "116 \t\t 0.053736\n",
      "117 \t\t 0.052330\n",
      "118 \t\t 0.050964\n",
      "119 \t\t 0.049638\n",
      "120 \t\t 0.048351\n",
      "121 \t\t 0.047101\n",
      "122 \t\t 0.045888\n",
      "123 \t\t 0.044710\n",
      "124 \t\t 0.043565\n",
      "125 \t\t 0.042454\n",
      "126 \t\t 0.041375\n",
      "127 \t\t 0.040326\n",
      "128 \t\t 0.039308\n",
      "129 \t\t 0.038319\n",
      "130 \t\t 0.037358\n",
      "131 \t\t 0.036424\n",
      "132 \t\t 0.035516\n",
      "133 \t\t 0.034635\n",
      "134 \t\t 0.033777\n",
      "135 \t\t 0.032944\n",
      "136 \t\t 0.032134\n",
      "137 \t\t 0.031347\n",
      "138 \t\t 0.030581\n",
      "139 \t\t 0.029836\n",
      "140 \t\t 0.029111\n",
      "141 \t\t 0.028406\n",
      "142 \t\t 0.027720\n",
      "143 \t\t 0.027053\n",
      "144 \t\t 0.026403\n",
      "145 \t\t 0.025771\n",
      "146 \t\t 0.025155\n",
      "147 \t\t 0.024555\n",
      "148 \t\t 0.023971\n",
      "149 \t\t 0.023402\n",
      "150 \t\t 0.022847\n",
      "151 \t\t 0.022307\n",
      "152 \t\t 0.021780\n",
      "153 \t\t 0.021267\n",
      "154 \t\t 0.020766\n",
      "155 \t\t 0.020277\n",
      "156 \t\t 0.019801\n",
      "157 \t\t 0.019336\n",
      "158 \t\t 0.018883\n",
      "159 \t\t 0.018440\n",
      "160 \t\t 0.018008\n",
      "161 \t\t 0.017587\n",
      "162 \t\t 0.017175\n",
      "163 \t\t 0.016773\n",
      "164 \t\t 0.016380\n",
      "165 \t\t 0.015996\n",
      "166 \t\t 0.015621\n",
      "167 \t\t 0.015255\n",
      "168 \t\t 0.014897\n",
      "169 \t\t 0.014547\n",
      "170 \t\t 0.014205\n",
      "171 \t\t 0.013871\n",
      "172 \t\t 0.013544\n",
      "173 \t\t 0.013225\n",
      "174 \t\t 0.012912\n",
      "175 \t\t 0.012607\n",
      "176 \t\t 0.012308\n",
      "177 \t\t 0.012016\n",
      "178 \t\t 0.011731\n",
      "179 \t\t 0.011451\n",
      "180 \t\t 0.011178\n",
      "181 \t\t 0.010911\n",
      "182 \t\t 0.010650\n",
      "183 \t\t 0.010394\n",
      "184 \t\t 0.010144\n",
      "185 \t\t 0.009900\n",
      "186 \t\t 0.009661\n",
      "187 \t\t 0.009427\n",
      "188 \t\t 0.009199\n",
      "189 \t\t 0.008975\n",
      "190 \t\t 0.008757\n",
      "191 \t\t 0.008543\n",
      "192 \t\t 0.008334\n",
      "193 \t\t 0.008130\n",
      "194 \t\t 0.007930\n",
      "195 \t\t 0.007735\n",
      "196 \t\t 0.007544\n",
      "197 \t\t 0.007358\n",
      "198 \t\t 0.007175\n",
      "199 \t\t 0.006997\n",
      "200 \t\t 0.006823\n"
     ]
    }
   ],
   "source": [
    "# Funk SVD with 20 latent features, learning rate of 0.005, and 200 iterations (Higher latent features and iterations)\n",
    "user_mat_20lf_200it, offer_mat_20lf_200it = FunkSVD(train_data_np, latent_features=20, iters=200)"
   ]
  },
  {
   "cell_type": "markdown",
   "metadata": {},
   "source": [
    "## 6. Predict and Validate Results"
   ]
  },
  {
   "cell_type": "code",
   "execution_count": 57,
   "metadata": {},
   "outputs": [],
   "source": [
    "def predict_offer(user_matrix, offer_matrix, user_id, offer_id):\n",
    "    '''\n",
    "    Predicts a user's reaction to an offer using FunkSVD.\n",
    "\n",
    "    Parameters:\n",
    "    user_matrix (ndarray): User by latent factor matrix.\n",
    "    offer_matrix (ndarray): Latent factor by offer matrix.\n",
    "    user_id (string): The user_id from the user-item matrix.\n",
    "    offer_id (string): The offer_id from the user-item matrix.\n",
    "\n",
    "    Returns:\n",
    "    pred (float): The predicted reaction for the user_id-offer_id pair according to FunkSVD. Returns None if prediction is not possible due to the user or offer not being in the training set.\n",
    "    '''\n",
    "    try:\n",
    "        # Create a series of user IDs and offer IDs that match the ordering in the original data\n",
    "        user_ids_series = np.array(complete_user_item_matrix.index)\n",
    "        offer_ids_series = np.array(complete_user_item_matrix.columns)\n",
    "\n",
    "        # Obtain the row index in user_matrix corresponding to the given user_id\n",
    "        user_row = np.where(user_ids_series == user_id)[0][0]\n",
    "\n",
    "        # Obtain the column index in offer_matrix corresponding to the given offer_id\n",
    "        offer_col = np.where(offer_ids_series == offer_id)[0][0]\n",
    "\n",
    "        # Take the dot product of the user's row in user_matrix with the offer's column in offer_matrix to generate the prediction\n",
    "        pred = np.dot(user_matrix[user_row, :], offer_matrix[:, offer_col])\n",
    "        \n",
    "        return pred\n",
    "    \n",
    "    except:\n",
    "        # Return None if prediction not possible (e.g., user or offer not in training set)\n",
    "        return None"
   ]
  },
  {
   "cell_type": "code",
   "execution_count": 58,
   "metadata": {},
   "outputs": [],
   "source": [
    "def validate(test_df, user_mat, offer_mat):\n",
    "    '''\n",
    "    Compute the Mean Squared Error (MSE) of the predicted user's reaction to offers.\n",
    "    \n",
    "    Parameters:\n",
    "    test_df (DataFrame): DataFrame that contains the actual user's reaction to offers that we want to test our predictions against.\n",
    "    user_mat (array): User by latent factor matrix.\n",
    "    offer_mat (array): Latent factor by offer matrix.\n",
    "\n",
    "    Output:\n",
    "    print statement: The MSE of the user's reaction for the given test dataset and latent features.\n",
    "    '''\n",
    "    \n",
    "    # Count the total number of non-missing values in the test dataset\n",
    "    num_complete = np.count_nonzero(~np.isnan(test_df))\n",
    "\n",
    "    # Initialize a variable to hold the sum of squared errors (SSE)\n",
    "    sse_accum = 0\n",
    "\n",
    "    # Iterate over each user\n",
    "    for user_id in test_df.index:\n",
    "        # Iterate over each offer for the current user\n",
    "        for offer_id in test_df.columns:\n",
    "            # If the user's reaction to the offer is not missing, then proceed\n",
    "            if ~np.isnan(test_df.loc[user_id, offer_id]):\n",
    "                # Predict the user's reaction to the offer\n",
    "                predict_value = predict_offer(user_mat, offer_mat, user_id, offer_id)\n",
    "                # If a prediction is made (i.e prediction is not None)\n",
    "                if predict_value != None:\n",
    "                    # Compute the prediction error by subtracting the predicted value from the actual value\n",
    "                    diff = test_df.loc[user_id, offer_id] - predict_value\n",
    "                    # Add the squared prediction error to the total SSE\n",
    "                    sse_accum += diff**2\n",
    "    \n",
    "    # Print the average of SSE, which is the Mean Squared Error (MSE)\n",
    "    print(sse_accum / num_complete)"
   ]
  },
  {
   "cell_type": "code",
   "execution_count": 59,
   "metadata": {},
   "outputs": [
    {
     "name": "stdout",
     "output_type": "stream",
     "text": [
      "0.3622473676407589\n"
     ]
    }
   ],
   "source": [
    "# Evaluation for default parameters\n",
    "validate(test_user_item_matrix, user_mat, offer_mat)"
   ]
  },
  {
   "cell_type": "code",
   "execution_count": 60,
   "metadata": {},
   "outputs": [
    {
     "name": "stdout",
     "output_type": "stream",
     "text": [
      "0.4780780023463941\n"
     ]
    }
   ],
   "source": [
    "# Evaluation for higher iterations\n",
    "validate(test_user_item_matrix, user_mat_200it, offer_mat_200it) # Best result"
   ]
  },
  {
   "cell_type": "code",
   "execution_count": 61,
   "metadata": {},
   "outputs": [
    {
     "name": "stdout",
     "output_type": "stream",
     "text": [
      "0.3967874286376631\n"
     ]
    }
   ],
   "source": [
    "# Evaluation for higher latent features\n",
    "validate(test_user_item_matrix, user_mat_20lf, offer_mat_20lf)"
   ]
  },
  {
   "cell_type": "code",
   "execution_count": 62,
   "metadata": {},
   "outputs": [
    {
     "name": "stdout",
     "output_type": "stream",
     "text": [
      "0.4803512458747647\n"
     ]
    }
   ],
   "source": [
    "# Evaluation for higher latent features and iterations\n",
    "validate(test_user_item_matrix, user_mat_20lf_200it, offer_mat_20lf_200it)"
   ]
  },
  {
   "cell_type": "markdown",
   "metadata": {},
   "source": [
    "The best results are obtained with lower iterations and lower latent features when running validation.  The best obtained with the default paremeters in this case with a low MSE."
   ]
  },
  {
   "cell_type": "markdown",
   "metadata": {},
   "source": [
    "## 7. Recommendations for Starbucks Offers"
   ]
  },
  {
   "cell_type": "code",
   "execution_count": 63,
   "metadata": {},
   "outputs": [],
   "source": [
    "def best_sale_offer(user_item_matrix):\n",
    "    '''\n",
    "    Calculate and print the total gain for each offer.\n",
    "\n",
    "    Parameters:\n",
    "    user_item_matrix (DataFrame): Matrix with users as rows and offers as columns. \n",
    "                                  Values indicate the number of times a user completed an offer.\n",
    "    \n",
    "    Returns\n",
    "    offer_value (DataFrame): A DataFrame with each offer and its corresponding total gain, sorted by gain in descending order.\n",
    "    '''\n",
    "    \n",
    "    # Initialize an empty list to hold the total gain for each offer\n",
    "    offer_gain = []\n",
    "    \n",
    "    # Iterate over each offer column in the user_item_matrix\n",
    "    for offer_id in user_item_matrix.columns:\n",
    "        # Gain is calculated as the sum of transaction values where the event is 'transaction' and the person has completed the offer at least once\n",
    "        offer_gain.append([offer_id, transcript[(transcript['person'].isin(list(user_item_matrix[user_item_matrix[offer_id]>=1].index)))&(transcript['event']=='transaction')]['value'].apply(lambda x: x['amount']).sum()])\n",
    "\n",
    "    # Convert offer_gain list to a DataFrame\n",
    "    offer_value = pd.DataFrame(offer_gain, columns=['offer_id', 'gain'])\n",
    "    \n",
    "    # Convert gain values to numeric type\n",
    "    offer_value['gain'] = pd.to_numeric(offer_value['gain'])\n",
    "    \n",
    "    # Sort the DataFrame by gain in descending order\n",
    "    offer_value.sort_values(by='gain', ascending=False, inplace=True)\n",
    "    \n",
    "    # Print the sorted DataFrame\n",
    "    print(offer_value)\n",
    "    \n",
    "    return offer_value"
   ]
  },
  {
   "cell_type": "code",
   "execution_count": 64,
   "metadata": {},
   "outputs": [],
   "source": [
    "def recommend_offer(user_id, user_mat, offer_mat):\n",
    "    ''' \n",
    "    Recommend offers to a user based on their predicted reactions.\n",
    "\n",
    "    Parameters:\n",
    "    user_id (string): The user_id for whom we want to generate recommendations.\n",
    "    user_mat (array): Users by latent factors matrix.\n",
    "    offer_mat (array): Latent factors by offer matrix.\n",
    "\n",
    "    Outputs:\n",
    "    Prints out a list of recommended offer ids for the given user, sorted by predicted reaction value.\n",
    "    If user_id is not in the database, prints out a list of top sale offer recommendations.\n",
    "    '''    \n",
    "\n",
    "    # Initialize a dictionary to store the predicted reaction for each offer for the given user\n",
    "    recommend = {}\n",
    "    \n",
    "    # Iterate through each offer in the training matrix\n",
    "    for offer_id in train_user_item_matrix.columns:\n",
    "        # Predict the user's reaction to the offer\n",
    "        pred_val = predict_offer(user_mat, offer_mat, user_id, offer_id)\n",
    "        \n",
    "        # If a prediction was made, add it to the recommend dictionary, where the offer_id is the key and the predicted value is the value\n",
    "        if pred_val != None:\n",
    "            recommend[offer_id] = pred_val\n",
    "        # If no prediction was made (i.e., if the user is not in the database), stop iterating through offers\n",
    "        else:\n",
    "            break\n",
    "    \n",
    "    # If no prediction was made for any offer,\n",
    "    if pred_val == None:\n",
    "        # Inform the user that since they're not in our database, we're giving them our best sale offer recommendations.\n",
    "        print(\"Because this user is not in our database, we are offering the top sale offer recommendation.\")\n",
    "        \n",
    "        # Get the top sale offers\n",
    "        top_offer = best_sale_offer(complete_user_item_matrix)\n",
    "        \n",
    "        # Print each recommended offer (top sale offers)\n",
    "        for offer_id in top_offer['offer_id']:\n",
    "            print(\"offer id: \", offer_id)\n",
    "    # If predictions were made for offers,\n",
    "    else:\n",
    "        # Inform the user that we're giving them recommendations based on their predicted reactions.\n",
    "        print(\"Recommend offer for user \", user_id)\n",
    "        \n",
    "        # Print each recommended offer and its predicted value sorted in descending order of the predicted value\n",
    "        for offer_id, pred_val in sorted(recommend.items(), key=lambda kv:(kv[1], kv[0]), reverse=True):\n",
    "            print(\"offer id: \", offer_id, \" predicted value: \", round(pred_val,2))"
   ]
  },
  {
   "cell_type": "code",
   "execution_count": 65,
   "metadata": {},
   "outputs": [
    {
     "data": {
      "text/html": [
       "<div>\n",
       "<style scoped>\n",
       "    .dataframe tbody tr th:only-of-type {\n",
       "        vertical-align: middle;\n",
       "    }\n",
       "\n",
       "    .dataframe tbody tr th {\n",
       "        vertical-align: top;\n",
       "    }\n",
       "\n",
       "    .dataframe thead th {\n",
       "        text-align: right;\n",
       "    }\n",
       "</style>\n",
       "<table border=\"1\" class=\"dataframe\">\n",
       "  <thead>\n",
       "    <tr style=\"text-align: right;\">\n",
       "      <th></th>\n",
       "      <th>gender</th>\n",
       "      <th>age</th>\n",
       "      <th>id</th>\n",
       "      <th>became_member_on</th>\n",
       "      <th>income</th>\n",
       "    </tr>\n",
       "  </thead>\n",
       "  <tbody>\n",
       "    <tr>\n",
       "      <th>1</th>\n",
       "      <td>F</td>\n",
       "      <td>55</td>\n",
       "      <td>0610b486422d4921ae7d2bf64640c50b</td>\n",
       "      <td>20170715</td>\n",
       "      <td>112000.0</td>\n",
       "    </tr>\n",
       "    <tr>\n",
       "      <th>3</th>\n",
       "      <td>F</td>\n",
       "      <td>75</td>\n",
       "      <td>78afa995795e4d85b5d9ceeca43f5fef</td>\n",
       "      <td>20170509</td>\n",
       "      <td>100000.0</td>\n",
       "    </tr>\n",
       "    <tr>\n",
       "      <th>5</th>\n",
       "      <td>M</td>\n",
       "      <td>68</td>\n",
       "      <td>e2127556f4f64592b11af22de27a7932</td>\n",
       "      <td>20180426</td>\n",
       "      <td>70000.0</td>\n",
       "    </tr>\n",
       "    <tr>\n",
       "      <th>8</th>\n",
       "      <td>M</td>\n",
       "      <td>65</td>\n",
       "      <td>389bc3fa690240e798340f5a15918d5c</td>\n",
       "      <td>20180209</td>\n",
       "      <td>53000.0</td>\n",
       "    </tr>\n",
       "    <tr>\n",
       "      <th>12</th>\n",
       "      <td>M</td>\n",
       "      <td>58</td>\n",
       "      <td>2eeac8d8feae4a8cad5a6af0499a211d</td>\n",
       "      <td>20171111</td>\n",
       "      <td>51000.0</td>\n",
       "    </tr>\n",
       "  </tbody>\n",
       "</table>\n",
       "</div>"
      ],
      "text/plain": [
       "   gender  age                                id  became_member_on    income\n",
       "1       F   55  0610b486422d4921ae7d2bf64640c50b          20170715  112000.0\n",
       "3       F   75  78afa995795e4d85b5d9ceeca43f5fef          20170509  100000.0\n",
       "5       M   68  e2127556f4f64592b11af22de27a7932          20180426   70000.0\n",
       "8       M   65  389bc3fa690240e798340f5a15918d5c          20180209   53000.0\n",
       "12      M   58  2eeac8d8feae4a8cad5a6af0499a211d          20171111   51000.0"
      ]
     },
     "execution_count": 65,
     "metadata": {},
     "output_type": "execute_result"
    }
   ],
   "source": [
    "clean_profile.head()"
   ]
  },
  {
   "cell_type": "code",
   "execution_count": 66,
   "metadata": {},
   "outputs": [
    {
     "name": "stdout",
     "output_type": "stream",
     "text": [
      "Recommend offer for user  0610b486422d4921ae7d2bf64640c50b\n",
      "offer id:  f19421c1d4aa40978ebb69ca19b0e20d  predicted value:  1.59\n",
      "offer id:  fafdcd668e3743c1bb461111dcafc2a4  predicted value:  1.28\n",
      "offer id:  2298d6c36e964ae4a3e7e9706d1fb8c2  predicted value:  0.98\n",
      "offer id:  ae264e3637204a6fb9bb56bc8210ddfd  predicted value:  0.98\n",
      "offer id:  4d5c57ea9a6940dd891ad53e9dbe8da0  predicted value:  0.8\n",
      "offer id:  9b98b8c7a33c4b65b9aebfe6a799e6d9  predicted value:  0.41\n",
      "offer id:  0b1e1539f2cc45b7b9fa7c272da2e1d7  predicted value:  0.17\n",
      "offer id:  2906b810c7d4411798c6938adc9daaa5  predicted value:  0.12\n"
     ]
    }
   ],
   "source": [
    "# Recommend offer for the first user using default parameters\n",
    "recommend_offer('0610b486422d4921ae7d2bf64640c50b', user_mat, offer_mat)"
   ]
  },
  {
   "cell_type": "code",
   "execution_count": 67,
   "metadata": {},
   "outputs": [
    {
     "name": "stdout",
     "output_type": "stream",
     "text": [
      "Recommend offer for user  0610b486422d4921ae7d2bf64640c50b\n",
      "offer id:  f19421c1d4aa40978ebb69ca19b0e20d  predicted value:  1.43\n",
      "offer id:  4d5c57ea9a6940dd891ad53e9dbe8da0  predicted value:  1.02\n",
      "offer id:  2298d6c36e964ae4a3e7e9706d1fb8c2  predicted value:  1.01\n",
      "offer id:  fafdcd668e3743c1bb461111dcafc2a4  predicted value:  0.98\n",
      "offer id:  2906b810c7d4411798c6938adc9daaa5  predicted value:  0.82\n",
      "offer id:  0b1e1539f2cc45b7b9fa7c272da2e1d7  predicted value:  0.5\n",
      "offer id:  ae264e3637204a6fb9bb56bc8210ddfd  predicted value:  0.17\n",
      "offer id:  9b98b8c7a33c4b65b9aebfe6a799e6d9  predicted value:  -0.08\n"
     ]
    }
   ],
   "source": [
    "# Reccomend offer for the first user using higher iterations\n",
    "recommend_offer('0610b486422d4921ae7d2bf64640c50b', user_mat_200it, offer_mat_200it)"
   ]
  },
  {
   "cell_type": "code",
   "execution_count": 68,
   "metadata": {},
   "outputs": [
    {
     "name": "stdout",
     "output_type": "stream",
     "text": [
      "Recommend offer for user  0610b486422d4921ae7d2bf64640c50b\n",
      "offer id:  2298d6c36e964ae4a3e7e9706d1fb8c2  predicted value:  1.33\n",
      "offer id:  fafdcd668e3743c1bb461111dcafc2a4  predicted value:  0.87\n",
      "offer id:  4d5c57ea9a6940dd891ad53e9dbe8da0  predicted value:  0.67\n",
      "offer id:  f19421c1d4aa40978ebb69ca19b0e20d  predicted value:  0.44\n",
      "offer id:  9b98b8c7a33c4b65b9aebfe6a799e6d9  predicted value:  0.43\n",
      "offer id:  ae264e3637204a6fb9bb56bc8210ddfd  predicted value:  0.17\n",
      "offer id:  0b1e1539f2cc45b7b9fa7c272da2e1d7  predicted value:  0.1\n",
      "offer id:  2906b810c7d4411798c6938adc9daaa5  predicted value:  0.09\n"
     ]
    }
   ],
   "source": [
    "# Recommend offer for the first user using higher latent features\n",
    "recommend_offer('0610b486422d4921ae7d2bf64640c50b', user_mat_20lf, offer_mat_20lf)"
   ]
  },
  {
   "cell_type": "code",
   "execution_count": 69,
   "metadata": {},
   "outputs": [
    {
     "name": "stdout",
     "output_type": "stream",
     "text": [
      "Recommend offer for user  0610b486422d4921ae7d2bf64640c50b\n",
      "offer id:  f19421c1d4aa40978ebb69ca19b0e20d  predicted value:  2.11\n",
      "offer id:  fafdcd668e3743c1bb461111dcafc2a4  predicted value:  1.1\n",
      "offer id:  2298d6c36e964ae4a3e7e9706d1fb8c2  predicted value:  1.04\n",
      "offer id:  4d5c57ea9a6940dd891ad53e9dbe8da0  predicted value:  0.91\n",
      "offer id:  9b98b8c7a33c4b65b9aebfe6a799e6d9  predicted value:  0.75\n",
      "offer id:  2906b810c7d4411798c6938adc9daaa5  predicted value:  0.66\n",
      "offer id:  ae264e3637204a6fb9bb56bc8210ddfd  predicted value:  0.56\n",
      "offer id:  0b1e1539f2cc45b7b9fa7c272da2e1d7  predicted value:  0.18\n"
     ]
    }
   ],
   "source": [
    "# Recommend offer for the first user using higher latent features and iterations\n",
    "recommend_offer('0610b486422d4921ae7d2bf64640c50b', user_mat_20lf_200it, offer_mat_20lf_200it)"
   ]
  },
  {
   "cell_type": "code",
   "execution_count": 70,
   "metadata": {},
   "outputs": [
    {
     "name": "stdout",
     "output_type": "stream",
     "text": [
      "Because this user is not in our database, we are offering the top sale offer recommendation.\n"
     ]
    },
    {
     "name": "stdout",
     "output_type": "stream",
     "text": [
      "                           offer_id       gain\n",
      "7  fafdcd668e3743c1bb461111dcafc2a4  596220.84\n",
      "1  2298d6c36e964ae4a3e7e9706d1fb8c2  538027.98\n",
      "6  f19421c1d4aa40978ebb69ca19b0e20d  480555.03\n",
      "3  4d5c57ea9a6940dd891ad53e9dbe8da0  441918.93\n",
      "5  ae264e3637204a6fb9bb56bc8210ddfd  423683.27\n",
      "2  2906b810c7d4411798c6938adc9daaa5  305568.42\n",
      "4  9b98b8c7a33c4b65b9aebfe6a799e6d9  304361.77\n",
      "0  0b1e1539f2cc45b7b9fa7c272da2e1d7  218905.94\n",
      "offer id:  fafdcd668e3743c1bb461111dcafc2a4\n",
      "offer id:  2298d6c36e964ae4a3e7e9706d1fb8c2\n",
      "offer id:  f19421c1d4aa40978ebb69ca19b0e20d\n",
      "offer id:  4d5c57ea9a6940dd891ad53e9dbe8da0\n",
      "offer id:  ae264e3637204a6fb9bb56bc8210ddfd\n",
      "offer id:  2906b810c7d4411798c6938adc9daaa5\n",
      "offer id:  9b98b8c7a33c4b65b9aebfe6a799e6d9\n",
      "offer id:  0b1e1539f2cc45b7b9fa7c272da2e1d7\n"
     ]
    }
   ],
   "source": [
    "# Reccomend offer for a new user using default parameters\n",
    "recommend_offer('new_user', user_mat, offer_mat)"
   ]
  },
  {
   "cell_type": "markdown",
   "metadata": {},
   "source": [
    "We can see that a new user gets the top sales offers since there is nothing to recommend yet."
   ]
  }
 ],
 "metadata": {
  "kernelspec": {
   "display_name": "Python 3",
   "language": "python",
   "name": "python3"
  },
  "language_info": {
   "codemirror_mode": {
    "name": "ipython",
    "version": 3
   },
   "file_extension": ".py",
   "mimetype": "text/x-python",
   "name": "python",
   "nbconvert_exporter": "python",
   "pygments_lexer": "ipython3",
   "version": "3.11.2"
  }
 },
 "nbformat": 4,
 "nbformat_minor": 2
}
